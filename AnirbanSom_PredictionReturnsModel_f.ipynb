{
 "cells": [
  {
   "cell_type": "markdown",
   "metadata": {},
   "source": [
    "## Objective: Predictive model to identify orders that will be returned and provide suggestions to reduce the return rate"
   ]
  },
  {
   "cell_type": "markdown",
   "metadata": {},
   "source": [
    "## Overview: Built classification models using multiple algorithms to predict order returns. The notebook is divided into 2 major parts as follows - \n",
    "### Part 1: Classification models without over/undersampling techniques\n",
    "### Part 2: SMOTE Random forest and Logistic regression classification model i.e. with over-sampling technique\n",
    "##### Note: Oversampling is considered due to highly imbalance class distribution \n",
    "\n",
    "### Table of content:\n",
    "#### 1. Data encoding and wrangling\n",
    "#### 2. Target variable distribution\n",
    "#### 3. Feature selection\n",
    "#### 4. Part 1: Classification models without oversampling techniques & model performance metrics\n",
    "##### 4.1. Logistic regression, KNN, Decision Tree & Random forest\n",
    "#### 5. Part 2: Classification model with over-sampling techniques & model performance metrics\n",
    "##### 5.1. SMOTE Random foreset, SMOTE Logistic regression\n",
    "#### 6. SHAP values & partial dependence plots for model evaluation"
   ]
  },
  {
   "cell_type": "code",
   "execution_count": 34,
   "metadata": {},
   "outputs": [
    {
     "data": {
      "text/html": [
       "        <script type=\"text/javascript\">\n",
       "        window.PlotlyConfig = {MathJaxConfig: 'local'};\n",
       "        if (window.MathJax) {MathJax.Hub.Config({SVG: {font: \"STIX-Web\"}});}\n",
       "        if (typeof require !== 'undefined') {\n",
       "        require.undef(\"plotly\");\n",
       "        requirejs.config({\n",
       "            paths: {\n",
       "                'plotly': ['https://cdn.plot.ly/plotly-latest.min']\n",
       "            }\n",
       "        });\n",
       "        require(['plotly'], function(Plotly) {\n",
       "            window._Plotly = Plotly;\n",
       "        });\n",
       "        }\n",
       "        </script>\n",
       "        "
      ]
     },
     "metadata": {},
     "output_type": "display_data"
    }
   ],
   "source": [
    "import pandas as pd\n",
    "import numpy as np\n",
    "import warnings\n",
    "warnings.filterwarnings(\"ignore\")\n",
    "import plotly.express as px\n",
    "from mlxtend.preprocessing import minmax_scaling\n",
    "\n",
    "import plotly.graph_objects as go\n",
    "#import plotly.subplots as sp\n",
    "from plotly.subplots import make_subplots\n",
    "from plotly.offline import download_plotlyjs, init_notebook_mode, iplot\n",
    "init_notebook_mode(connected=True)\n",
    "\n",
    "from statsmodels.regression.linear_model import OLS\n",
    "from statsmodels.tools.tools import add_constant\n",
    "\n",
    "from IPython.display import HTML, display, Markdown, clear_output\n",
    "\n",
    "from scipy.stats import f_oneway\n",
    "\n",
    "from sklearn.model_selection import train_test_split\n",
    "from sklearn.model_selection import cross_validate\n",
    "from sklearn.model_selection import RepeatedStratifiedKFold\n",
    "from sklearn.metrics import plot_confusion_matrix\n",
    "from sklearn.ensemble import RandomForestClassifier\n",
    "from imblearn.over_sampling import SMOTE\n",
    "from sklearn.metrics import classification_report\n",
    "from sklearn.model_selection import GridSearchCV\n",
    "from sklearn.tree import DecisionTreeClassifier\n",
    "\n",
    "from statistics import mean\n",
    "from sklearn import metrics\n",
    "import matplotlib.pyplot as plt\n",
    " \n",
    "from sklearn.linear_model import LogisticRegression\n",
    "from sklearn import metrics\n",
    "from sklearn import tree\n",
    "\n",
    "from sklearn.metrics import confusion_matrix\n",
    "from sklearn.neighbors import KNeighborsClassifier\n",
    "from matplotlib.ticker import NullFormatter\n",
    "import matplotlib.ticker as ticker\n",
    "import seaborn as sns\n",
    "\n",
    "from sklearn.inspection import PartialDependenceDisplay\n",
    "\n",
    "%matplotlib inline"
   ]
  },
  {
   "cell_type": "code",
   "execution_count": 35,
   "metadata": {},
   "outputs": [
    {
     "data": {
      "text/html": [
       "<div>\n",
       "<style scoped>\n",
       "    .dataframe tbody tr th:only-of-type {\n",
       "        vertical-align: middle;\n",
       "    }\n",
       "\n",
       "    .dataframe tbody tr th {\n",
       "        vertical-align: top;\n",
       "    }\n",
       "\n",
       "    .dataframe thead th {\n",
       "        text-align: right;\n",
       "    }\n",
       "</style>\n",
       "<table border=\"1\" class=\"dataframe\">\n",
       "  <thead>\n",
       "    <tr style=\"text-align: right;\">\n",
       "      <th></th>\n",
       "      <th>Row_ID</th>\n",
       "      <th>Order_ID</th>\n",
       "      <th>Customer_Name</th>\n",
       "      <th>Order_Date</th>\n",
       "      <th>Order_Priority</th>\n",
       "      <th>Order_Quantity</th>\n",
       "      <th>Sales</th>\n",
       "      <th>Discount</th>\n",
       "      <th>Ship_Mode</th>\n",
       "      <th>Profit</th>\n",
       "      <th>Unit_Price</th>\n",
       "      <th>Shipping_Cost</th>\n",
       "      <th>Region</th>\n",
       "      <th>Customer_Segment</th>\n",
       "      <th>Product_Category</th>\n",
       "      <th>Product_Container</th>\n",
       "      <th>Product_Base_Margin</th>\n",
       "      <th>Ship_Date</th>\n",
       "      <th>Return_Status</th>\n",
       "      <th>date_diff</th>\n",
       "    </tr>\n",
       "  </thead>\n",
       "  <tbody>\n",
       "    <tr>\n",
       "      <th>0</th>\n",
       "      <td>1</td>\n",
       "      <td>3</td>\n",
       "      <td>Muhammed MacIntyre</td>\n",
       "      <td>13-10-2010</td>\n",
       "      <td>Low</td>\n",
       "      <td>6</td>\n",
       "      <td>261.5400</td>\n",
       "      <td>0.04</td>\n",
       "      <td>Regular Air</td>\n",
       "      <td>-213.25</td>\n",
       "      <td>38.94</td>\n",
       "      <td>35.00</td>\n",
       "      <td>Nunavut</td>\n",
       "      <td>Small Business</td>\n",
       "      <td>Office Supplies</td>\n",
       "      <td>Large Box</td>\n",
       "      <td>0.80</td>\n",
       "      <td>20-10-2010</td>\n",
       "      <td>0</td>\n",
       "      <td>7</td>\n",
       "    </tr>\n",
       "    <tr>\n",
       "      <th>1</th>\n",
       "      <td>2</td>\n",
       "      <td>293</td>\n",
       "      <td>Barry French</td>\n",
       "      <td>01-10-2012</td>\n",
       "      <td>High</td>\n",
       "      <td>49</td>\n",
       "      <td>10123.0200</td>\n",
       "      <td>0.07</td>\n",
       "      <td>Delivery Truck</td>\n",
       "      <td>457.81</td>\n",
       "      <td>208.16</td>\n",
       "      <td>68.02</td>\n",
       "      <td>Nunavut</td>\n",
       "      <td>Consumer</td>\n",
       "      <td>Office Supplies</td>\n",
       "      <td>Jumbo Drum</td>\n",
       "      <td>0.58</td>\n",
       "      <td>02-10-2012</td>\n",
       "      <td>0</td>\n",
       "      <td>1</td>\n",
       "    </tr>\n",
       "    <tr>\n",
       "      <th>2</th>\n",
       "      <td>3</td>\n",
       "      <td>483</td>\n",
       "      <td>Clay Rozendal</td>\n",
       "      <td>10-07-2011</td>\n",
       "      <td>High</td>\n",
       "      <td>30</td>\n",
       "      <td>4965.7595</td>\n",
       "      <td>0.08</td>\n",
       "      <td>Regular Air</td>\n",
       "      <td>1198.97</td>\n",
       "      <td>195.99</td>\n",
       "      <td>3.99</td>\n",
       "      <td>Nunavut</td>\n",
       "      <td>Corporate</td>\n",
       "      <td>Technology</td>\n",
       "      <td>Small Box</td>\n",
       "      <td>0.58</td>\n",
       "      <td>12-07-2011</td>\n",
       "      <td>0</td>\n",
       "      <td>2</td>\n",
       "    </tr>\n",
       "    <tr>\n",
       "      <th>3</th>\n",
       "      <td>4</td>\n",
       "      <td>515</td>\n",
       "      <td>Carlos Soltero</td>\n",
       "      <td>28-08-2010</td>\n",
       "      <td>Not Specified</td>\n",
       "      <td>19</td>\n",
       "      <td>394.2700</td>\n",
       "      <td>0.08</td>\n",
       "      <td>Regular Air</td>\n",
       "      <td>30.94</td>\n",
       "      <td>21.78</td>\n",
       "      <td>5.94</td>\n",
       "      <td>Nunavut</td>\n",
       "      <td>Consumer</td>\n",
       "      <td>Office Supplies</td>\n",
       "      <td>Medium Box</td>\n",
       "      <td>0.50</td>\n",
       "      <td>30-08-2010</td>\n",
       "      <td>0</td>\n",
       "      <td>2</td>\n",
       "    </tr>\n",
       "    <tr>\n",
       "      <th>4</th>\n",
       "      <td>5</td>\n",
       "      <td>613</td>\n",
       "      <td>Carl Jackson</td>\n",
       "      <td>17-06-2011</td>\n",
       "      <td>High</td>\n",
       "      <td>12</td>\n",
       "      <td>93.5400</td>\n",
       "      <td>0.03</td>\n",
       "      <td>Regular Air</td>\n",
       "      <td>-54.04</td>\n",
       "      <td>7.30</td>\n",
       "      <td>7.72</td>\n",
       "      <td>Nunavut</td>\n",
       "      <td>Corporate</td>\n",
       "      <td>Office Supplies</td>\n",
       "      <td>Small Box</td>\n",
       "      <td>0.38</td>\n",
       "      <td>17-06-2011</td>\n",
       "      <td>0</td>\n",
       "      <td>0</td>\n",
       "    </tr>\n",
       "    <tr>\n",
       "      <th>...</th>\n",
       "      <td>...</td>\n",
       "      <td>...</td>\n",
       "      <td>...</td>\n",
       "      <td>...</td>\n",
       "      <td>...</td>\n",
       "      <td>...</td>\n",
       "      <td>...</td>\n",
       "      <td>...</td>\n",
       "      <td>...</td>\n",
       "      <td>...</td>\n",
       "      <td>...</td>\n",
       "      <td>...</td>\n",
       "      <td>...</td>\n",
       "      <td>...</td>\n",
       "      <td>...</td>\n",
       "      <td>...</td>\n",
       "      <td>...</td>\n",
       "      <td>...</td>\n",
       "      <td>...</td>\n",
       "      <td>...</td>\n",
       "    </tr>\n",
       "    <tr>\n",
       "      <th>5491</th>\n",
       "      <td>5492</td>\n",
       "      <td>47360</td>\n",
       "      <td>Frank Hawley</td>\n",
       "      <td>08-10-2010</td>\n",
       "      <td>Not Specified</td>\n",
       "      <td>25</td>\n",
       "      <td>2200.6400</td>\n",
       "      <td>0.05</td>\n",
       "      <td>Delivery Truck</td>\n",
       "      <td>-514.18</td>\n",
       "      <td>89.99</td>\n",
       "      <td>42.00</td>\n",
       "      <td>West</td>\n",
       "      <td>Home Office</td>\n",
       "      <td>Furniture</td>\n",
       "      <td>Jumbo Drum</td>\n",
       "      <td>0.66</td>\n",
       "      <td>10-10-2010</td>\n",
       "      <td>0</td>\n",
       "      <td>2</td>\n",
       "    </tr>\n",
       "    <tr>\n",
       "      <th>5492</th>\n",
       "      <td>5493</td>\n",
       "      <td>52706</td>\n",
       "      <td>Harry Greene</td>\n",
       "      <td>09-07-2012</td>\n",
       "      <td>Low</td>\n",
       "      <td>34</td>\n",
       "      <td>1041.6600</td>\n",
       "      <td>0.02</td>\n",
       "      <td>Express Air</td>\n",
       "      <td>480.53</td>\n",
       "      <td>28.53</td>\n",
       "      <td>1.49</td>\n",
       "      <td>West</td>\n",
       "      <td>Corporate</td>\n",
       "      <td>Office Supplies</td>\n",
       "      <td>Small Box</td>\n",
       "      <td>0.38</td>\n",
       "      <td>16-07-2012</td>\n",
       "      <td>0</td>\n",
       "      <td>7</td>\n",
       "    </tr>\n",
       "    <tr>\n",
       "      <th>5493</th>\n",
       "      <td>5494</td>\n",
       "      <td>54279</td>\n",
       "      <td>Harry Greene</td>\n",
       "      <td>30-07-2011</td>\n",
       "      <td>High</td>\n",
       "      <td>41</td>\n",
       "      <td>10071.0900</td>\n",
       "      <td>0.10</td>\n",
       "      <td>Delivery Truck</td>\n",
       "      <td>1977.69</td>\n",
       "      <td>264.98</td>\n",
       "      <td>17.86</td>\n",
       "      <td>West</td>\n",
       "      <td>Corporate</td>\n",
       "      <td>Technology</td>\n",
       "      <td>Jumbo Drum</td>\n",
       "      <td>0.58</td>\n",
       "      <td>31-07-2011</td>\n",
       "      <td>0</td>\n",
       "      <td>1</td>\n",
       "    </tr>\n",
       "    <tr>\n",
       "      <th>5494</th>\n",
       "      <td>5495</td>\n",
       "      <td>55558</td>\n",
       "      <td>Mick Brown</td>\n",
       "      <td>09-08-2010</td>\n",
       "      <td>Medium</td>\n",
       "      <td>8</td>\n",
       "      <td>1294.0400</td>\n",
       "      <td>0.05</td>\n",
       "      <td>Delivery Truck</td>\n",
       "      <td>-323.18</td>\n",
       "      <td>150.98</td>\n",
       "      <td>66.27</td>\n",
       "      <td>West</td>\n",
       "      <td>Consumer</td>\n",
       "      <td>Furniture</td>\n",
       "      <td>Jumbo Box</td>\n",
       "      <td>0.65</td>\n",
       "      <td>09-08-2010</td>\n",
       "      <td>0</td>\n",
       "      <td>0</td>\n",
       "    </tr>\n",
       "    <tr>\n",
       "      <th>5495</th>\n",
       "      <td>5496</td>\n",
       "      <td>56581</td>\n",
       "      <td>Grant Donatelli</td>\n",
       "      <td>08-02-2009</td>\n",
       "      <td>High</td>\n",
       "      <td>20</td>\n",
       "      <td>2026.0100</td>\n",
       "      <td>0.10</td>\n",
       "      <td>Express Air</td>\n",
       "      <td>580.43</td>\n",
       "      <td>105.98</td>\n",
       "      <td>13.99</td>\n",
       "      <td>West</td>\n",
       "      <td>Consumer</td>\n",
       "      <td>Furniture</td>\n",
       "      <td>Medium Box</td>\n",
       "      <td>0.65</td>\n",
       "      <td>11-02-2009</td>\n",
       "      <td>0</td>\n",
       "      <td>3</td>\n",
       "    </tr>\n",
       "  </tbody>\n",
       "</table>\n",
       "<p>5496 rows × 20 columns</p>\n",
       "</div>"
      ],
      "text/plain": [
       "      Row_ID  Order_ID       Customer_Name  Order_Date Order_Priority  \\\n",
       "0          1         3  Muhammed MacIntyre  13-10-2010            Low   \n",
       "1          2       293        Barry French  01-10-2012           High   \n",
       "2          3       483       Clay Rozendal  10-07-2011           High   \n",
       "3          4       515      Carlos Soltero  28-08-2010  Not Specified   \n",
       "4          5       613        Carl Jackson  17-06-2011           High   \n",
       "...      ...       ...                 ...         ...            ...   \n",
       "5491    5492     47360        Frank Hawley  08-10-2010  Not Specified   \n",
       "5492    5493     52706        Harry Greene  09-07-2012            Low   \n",
       "5493    5494     54279        Harry Greene  30-07-2011           High   \n",
       "5494    5495     55558          Mick Brown  09-08-2010         Medium   \n",
       "5495    5496     56581     Grant Donatelli  08-02-2009           High   \n",
       "\n",
       "      Order_Quantity       Sales  Discount       Ship_Mode   Profit  \\\n",
       "0                  6    261.5400      0.04     Regular Air  -213.25   \n",
       "1                 49  10123.0200      0.07  Delivery Truck   457.81   \n",
       "2                 30   4965.7595      0.08     Regular Air  1198.97   \n",
       "3                 19    394.2700      0.08     Regular Air    30.94   \n",
       "4                 12     93.5400      0.03     Regular Air   -54.04   \n",
       "...              ...         ...       ...             ...      ...   \n",
       "5491              25   2200.6400      0.05  Delivery Truck  -514.18   \n",
       "5492              34   1041.6600      0.02     Express Air   480.53   \n",
       "5493              41  10071.0900      0.10  Delivery Truck  1977.69   \n",
       "5494               8   1294.0400      0.05  Delivery Truck  -323.18   \n",
       "5495              20   2026.0100      0.10     Express Air   580.43   \n",
       "\n",
       "      Unit_Price  Shipping_Cost   Region Customer_Segment Product_Category  \\\n",
       "0          38.94          35.00  Nunavut   Small Business  Office Supplies   \n",
       "1         208.16          68.02  Nunavut         Consumer  Office Supplies   \n",
       "2         195.99           3.99  Nunavut        Corporate       Technology   \n",
       "3          21.78           5.94  Nunavut         Consumer  Office Supplies   \n",
       "4           7.30           7.72  Nunavut        Corporate  Office Supplies   \n",
       "...          ...            ...      ...              ...              ...   \n",
       "5491       89.99          42.00     West      Home Office        Furniture   \n",
       "5492       28.53           1.49     West        Corporate  Office Supplies   \n",
       "5493      264.98          17.86     West        Corporate       Technology   \n",
       "5494      150.98          66.27     West         Consumer        Furniture   \n",
       "5495      105.98          13.99     West         Consumer        Furniture   \n",
       "\n",
       "     Product_Container  Product_Base_Margin   Ship_Date  Return_Status  \\\n",
       "0            Large Box                 0.80  20-10-2010              0   \n",
       "1           Jumbo Drum                 0.58  02-10-2012              0   \n",
       "2            Small Box                 0.58  12-07-2011              0   \n",
       "3           Medium Box                 0.50  30-08-2010              0   \n",
       "4            Small Box                 0.38  17-06-2011              0   \n",
       "...                ...                  ...         ...            ...   \n",
       "5491        Jumbo Drum                 0.66  10-10-2010              0   \n",
       "5492         Small Box                 0.38  16-07-2012              0   \n",
       "5493        Jumbo Drum                 0.58  31-07-2011              0   \n",
       "5494         Jumbo Box                 0.65  09-08-2010              0   \n",
       "5495        Medium Box                 0.65  11-02-2009              0   \n",
       "\n",
       "      date_diff  \n",
       "0             7  \n",
       "1             1  \n",
       "2             2  \n",
       "3             2  \n",
       "4             0  \n",
       "...         ...  \n",
       "5491          2  \n",
       "5492          7  \n",
       "5493          1  \n",
       "5494          0  \n",
       "5495          3  \n",
       "\n",
       "[5496 rows x 20 columns]"
      ]
     },
     "execution_count": 35,
     "metadata": {},
     "output_type": "execute_result"
    }
   ],
   "source": [
    "df=pd.read_csv('CaseStudy_Returns_Superstore_v5.csv')\n",
    "superstore=df.copy()\n",
    "superstore = superstore.rename(columns=lambda s: s.replace(\".\", \"_\"))\n",
    "superstore"
   ]
  },
  {
   "cell_type": "code",
   "execution_count": 36,
   "metadata": {},
   "outputs": [],
   "source": [
    "### Created a \"date_diff\" column which means [Ship_Date - Order_Date]\n",
    "### Hypothesis - Orders with higher date diff. gets returned often\n",
    "\n",
    "### More feature engineering code have been done like - extracting out weekend and weekdays and analysing with return status"
   ]
  },
  {
   "cell_type": "markdown",
   "metadata": {},
   "source": [
    "### Data encoding and wrangling"
   ]
  },
  {
   "cell_type": "code",
   "execution_count": 37,
   "metadata": {},
   "outputs": [],
   "source": [
    "superstore=superstore.drop('Row_ID',axis=1)\n",
    "\n",
    "## List of columns selected for modelling\n",
    "superstore_mod=superstore[['Order_Priority',\n",
    "       'Order_Quantity', 'Sales', 'Discount', 'Ship_Mode',\n",
    "       'Unit_Price', 'Shipping_Cost', 'Region', 'Customer_Segment',\n",
    "       'Product_Category', 'Product_Container',\n",
    "       'Return_Status']]\n",
    "\n",
    "## List of columns for dummy/one-hot encoding\n",
    "superstore_mod_cat_dumm=superstore_mod[['Ship_Mode','Region','Customer_Segment','Product_Category','Product_Container']]\n",
    "\n",
    "## List of column(s) for label encoding\n",
    "superstore_mod_cat_lab=superstore_mod[['Order_Priority']]\n",
    "\n",
    "## List of numerical columns for scaling \n",
    "superstore_mod_num=superstore_mod[['Order_Quantity', 'Sales', 'Discount', \n",
    "       'Unit_Price', 'Shipping_Cost']]"
   ]
  },
  {
   "cell_type": "code",
   "execution_count": 38,
   "metadata": {},
   "outputs": [],
   "source": [
    "## Performed min-max scaling on the list of numerical columns\n",
    "superstore_mod_num_minmaxsc=minmax_scaling(superstore_mod_num\n",
    "                                             , columns=['Order_Quantity', 'Sales', 'Discount',\n",
    "                                                       'Unit_Price', 'Shipping_Cost'\n",
    "                                                        ])\n",
    "## Performed label enconding on Order Priority\n",
    "def conditions(i): \n",
    "    if i == \"Low\": return 2\n",
    "    if i == \"High\": return 5\n",
    "    if i == \"Critical\": return 5\n",
    "    if i == \"Medium\": return 3\n",
    "    if i == \"Not Specified\": return 1\n",
    "\n",
    "superstore_mod_cat_lab['Order_Priority_lab']=superstore_mod_cat_lab['Order_Priority'].apply(conditions)\n",
    "\n",
    "## Performed dummy/on-hot encoding on the categorical column list\n",
    "superstore_mod_cat_dumm_enc=pd.get_dummies(superstore_mod_cat_dumm\n",
    "                                           ,columns=superstore_mod_cat_dumm.columns\n",
    "                                           ,drop_first=True)"
   ]
  },
  {
   "cell_type": "code",
   "execution_count": 39,
   "metadata": {},
   "outputs": [
    {
     "data": {
      "text/html": [
       "<div>\n",
       "<style scoped>\n",
       "    .dataframe tbody tr th:only-of-type {\n",
       "        vertical-align: middle;\n",
       "    }\n",
       "\n",
       "    .dataframe tbody tr th {\n",
       "        vertical-align: top;\n",
       "    }\n",
       "\n",
       "    .dataframe thead th {\n",
       "        text-align: right;\n",
       "    }\n",
       "</style>\n",
       "<table border=\"1\" class=\"dataframe\">\n",
       "  <thead>\n",
       "    <tr style=\"text-align: right;\">\n",
       "      <th></th>\n",
       "      <th>Ship_Mode_Express Air</th>\n",
       "      <th>Ship_Mode_Regular Air</th>\n",
       "      <th>Region_Northwest Territories</th>\n",
       "      <th>Region_Nunavut</th>\n",
       "      <th>Region_Ontario</th>\n",
       "      <th>Region_Prarie</th>\n",
       "      <th>Region_Quebec</th>\n",
       "      <th>Region_West</th>\n",
       "      <th>Region_Yukon</th>\n",
       "      <th>Customer_Segment_Corporate</th>\n",
       "      <th>...</th>\n",
       "      <th>Product_Container_Small Box</th>\n",
       "      <th>Product_Container_Small Pack</th>\n",
       "      <th>Product_Container_Wrap Bag</th>\n",
       "      <th>Order_Priority_lab</th>\n",
       "      <th>Order_Quantity</th>\n",
       "      <th>Sales</th>\n",
       "      <th>Discount</th>\n",
       "      <th>Unit_Price</th>\n",
       "      <th>Shipping_Cost</th>\n",
       "      <th>Return_Status</th>\n",
       "    </tr>\n",
       "  </thead>\n",
       "  <tbody>\n",
       "    <tr>\n",
       "      <th>0</th>\n",
       "      <td>0</td>\n",
       "      <td>1</td>\n",
       "      <td>0</td>\n",
       "      <td>1</td>\n",
       "      <td>0</td>\n",
       "      <td>0</td>\n",
       "      <td>0</td>\n",
       "      <td>0</td>\n",
       "      <td>0</td>\n",
       "      <td>0</td>\n",
       "      <td>...</td>\n",
       "      <td>0</td>\n",
       "      <td>0</td>\n",
       "      <td>0</td>\n",
       "      <td>2</td>\n",
       "      <td>0.102041</td>\n",
       "      <td>0.002900</td>\n",
       "      <td>0.235294</td>\n",
       "      <td>0.005596</td>\n",
       "      <td>0.210119</td>\n",
       "      <td>0</td>\n",
       "    </tr>\n",
       "    <tr>\n",
       "      <th>1</th>\n",
       "      <td>0</td>\n",
       "      <td>0</td>\n",
       "      <td>0</td>\n",
       "      <td>1</td>\n",
       "      <td>0</td>\n",
       "      <td>0</td>\n",
       "      <td>0</td>\n",
       "      <td>0</td>\n",
       "      <td>0</td>\n",
       "      <td>0</td>\n",
       "      <td>...</td>\n",
       "      <td>0</td>\n",
       "      <td>0</td>\n",
       "      <td>0</td>\n",
       "      <td>5</td>\n",
       "      <td>0.979592</td>\n",
       "      <td>0.113632</td>\n",
       "      <td>0.411765</td>\n",
       "      <td>0.030547</td>\n",
       "      <td>0.411167</td>\n",
       "      <td>0</td>\n",
       "    </tr>\n",
       "    <tr>\n",
       "      <th>2</th>\n",
       "      <td>0</td>\n",
       "      <td>1</td>\n",
       "      <td>0</td>\n",
       "      <td>1</td>\n",
       "      <td>0</td>\n",
       "      <td>0</td>\n",
       "      <td>0</td>\n",
       "      <td>0</td>\n",
       "      <td>0</td>\n",
       "      <td>1</td>\n",
       "      <td>...</td>\n",
       "      <td>1</td>\n",
       "      <td>0</td>\n",
       "      <td>0</td>\n",
       "      <td>5</td>\n",
       "      <td>0.591837</td>\n",
       "      <td>0.055723</td>\n",
       "      <td>0.470588</td>\n",
       "      <td>0.028752</td>\n",
       "      <td>0.021310</td>\n",
       "      <td>0</td>\n",
       "    </tr>\n",
       "    <tr>\n",
       "      <th>3</th>\n",
       "      <td>0</td>\n",
       "      <td>1</td>\n",
       "      <td>0</td>\n",
       "      <td>1</td>\n",
       "      <td>0</td>\n",
       "      <td>0</td>\n",
       "      <td>0</td>\n",
       "      <td>0</td>\n",
       "      <td>0</td>\n",
       "      <td>0</td>\n",
       "      <td>...</td>\n",
       "      <td>0</td>\n",
       "      <td>0</td>\n",
       "      <td>0</td>\n",
       "      <td>1</td>\n",
       "      <td>0.367347</td>\n",
       "      <td>0.004391</td>\n",
       "      <td>0.470588</td>\n",
       "      <td>0.003065</td>\n",
       "      <td>0.033183</td>\n",
       "      <td>0</td>\n",
       "    </tr>\n",
       "    <tr>\n",
       "      <th>4</th>\n",
       "      <td>0</td>\n",
       "      <td>1</td>\n",
       "      <td>0</td>\n",
       "      <td>1</td>\n",
       "      <td>0</td>\n",
       "      <td>0</td>\n",
       "      <td>0</td>\n",
       "      <td>0</td>\n",
       "      <td>0</td>\n",
       "      <td>1</td>\n",
       "      <td>...</td>\n",
       "      <td>1</td>\n",
       "      <td>0</td>\n",
       "      <td>0</td>\n",
       "      <td>5</td>\n",
       "      <td>0.224490</td>\n",
       "      <td>0.001014</td>\n",
       "      <td>0.176471</td>\n",
       "      <td>0.000930</td>\n",
       "      <td>0.044021</td>\n",
       "      <td>0</td>\n",
       "    </tr>\n",
       "    <tr>\n",
       "      <th>...</th>\n",
       "      <td>...</td>\n",
       "      <td>...</td>\n",
       "      <td>...</td>\n",
       "      <td>...</td>\n",
       "      <td>...</td>\n",
       "      <td>...</td>\n",
       "      <td>...</td>\n",
       "      <td>...</td>\n",
       "      <td>...</td>\n",
       "      <td>...</td>\n",
       "      <td>...</td>\n",
       "      <td>...</td>\n",
       "      <td>...</td>\n",
       "      <td>...</td>\n",
       "      <td>...</td>\n",
       "      <td>...</td>\n",
       "      <td>...</td>\n",
       "      <td>...</td>\n",
       "      <td>...</td>\n",
       "      <td>...</td>\n",
       "      <td>...</td>\n",
       "    </tr>\n",
       "    <tr>\n",
       "      <th>5491</th>\n",
       "      <td>0</td>\n",
       "      <td>0</td>\n",
       "      <td>0</td>\n",
       "      <td>0</td>\n",
       "      <td>0</td>\n",
       "      <td>0</td>\n",
       "      <td>0</td>\n",
       "      <td>1</td>\n",
       "      <td>0</td>\n",
       "      <td>0</td>\n",
       "      <td>...</td>\n",
       "      <td>0</td>\n",
       "      <td>0</td>\n",
       "      <td>0</td>\n",
       "      <td>1</td>\n",
       "      <td>0.489796</td>\n",
       "      <td>0.024674</td>\n",
       "      <td>0.294118</td>\n",
       "      <td>0.013123</td>\n",
       "      <td>0.252740</td>\n",
       "      <td>0</td>\n",
       "    </tr>\n",
       "    <tr>\n",
       "      <th>5492</th>\n",
       "      <td>1</td>\n",
       "      <td>0</td>\n",
       "      <td>0</td>\n",
       "      <td>0</td>\n",
       "      <td>0</td>\n",
       "      <td>0</td>\n",
       "      <td>0</td>\n",
       "      <td>1</td>\n",
       "      <td>0</td>\n",
       "      <td>1</td>\n",
       "      <td>...</td>\n",
       "      <td>1</td>\n",
       "      <td>0</td>\n",
       "      <td>0</td>\n",
       "      <td>2</td>\n",
       "      <td>0.673469</td>\n",
       "      <td>0.011660</td>\n",
       "      <td>0.117647</td>\n",
       "      <td>0.004061</td>\n",
       "      <td>0.006089</td>\n",
       "      <td>0</td>\n",
       "    </tr>\n",
       "    <tr>\n",
       "      <th>5493</th>\n",
       "      <td>0</td>\n",
       "      <td>0</td>\n",
       "      <td>0</td>\n",
       "      <td>0</td>\n",
       "      <td>0</td>\n",
       "      <td>0</td>\n",
       "      <td>0</td>\n",
       "      <td>1</td>\n",
       "      <td>0</td>\n",
       "      <td>1</td>\n",
       "      <td>...</td>\n",
       "      <td>0</td>\n",
       "      <td>0</td>\n",
       "      <td>0</td>\n",
       "      <td>5</td>\n",
       "      <td>0.816327</td>\n",
       "      <td>0.113049</td>\n",
       "      <td>0.588235</td>\n",
       "      <td>0.038925</td>\n",
       "      <td>0.105760</td>\n",
       "      <td>0</td>\n",
       "    </tr>\n",
       "    <tr>\n",
       "      <th>5494</th>\n",
       "      <td>0</td>\n",
       "      <td>0</td>\n",
       "      <td>0</td>\n",
       "      <td>0</td>\n",
       "      <td>0</td>\n",
       "      <td>0</td>\n",
       "      <td>0</td>\n",
       "      <td>1</td>\n",
       "      <td>0</td>\n",
       "      <td>0</td>\n",
       "      <td>...</td>\n",
       "      <td>0</td>\n",
       "      <td>0</td>\n",
       "      <td>0</td>\n",
       "      <td>3</td>\n",
       "      <td>0.142857</td>\n",
       "      <td>0.014494</td>\n",
       "      <td>0.294118</td>\n",
       "      <td>0.022116</td>\n",
       "      <td>0.400511</td>\n",
       "      <td>0</td>\n",
       "    </tr>\n",
       "    <tr>\n",
       "      <th>5495</th>\n",
       "      <td>1</td>\n",
       "      <td>0</td>\n",
       "      <td>0</td>\n",
       "      <td>0</td>\n",
       "      <td>0</td>\n",
       "      <td>0</td>\n",
       "      <td>0</td>\n",
       "      <td>1</td>\n",
       "      <td>0</td>\n",
       "      <td>0</td>\n",
       "      <td>...</td>\n",
       "      <td>0</td>\n",
       "      <td>0</td>\n",
       "      <td>0</td>\n",
       "      <td>5</td>\n",
       "      <td>0.387755</td>\n",
       "      <td>0.022713</td>\n",
       "      <td>0.588235</td>\n",
       "      <td>0.015481</td>\n",
       "      <td>0.082197</td>\n",
       "      <td>0</td>\n",
       "    </tr>\n",
       "  </tbody>\n",
       "</table>\n",
       "<p>5496 rows × 27 columns</p>\n",
       "</div>"
      ],
      "text/plain": [
       "      Ship_Mode_Express Air  Ship_Mode_Regular Air  \\\n",
       "0                         0                      1   \n",
       "1                         0                      0   \n",
       "2                         0                      1   \n",
       "3                         0                      1   \n",
       "4                         0                      1   \n",
       "...                     ...                    ...   \n",
       "5491                      0                      0   \n",
       "5492                      1                      0   \n",
       "5493                      0                      0   \n",
       "5494                      0                      0   \n",
       "5495                      1                      0   \n",
       "\n",
       "      Region_Northwest Territories  Region_Nunavut  Region_Ontario  \\\n",
       "0                                0               1               0   \n",
       "1                                0               1               0   \n",
       "2                                0               1               0   \n",
       "3                                0               1               0   \n",
       "4                                0               1               0   \n",
       "...                            ...             ...             ...   \n",
       "5491                             0               0               0   \n",
       "5492                             0               0               0   \n",
       "5493                             0               0               0   \n",
       "5494                             0               0               0   \n",
       "5495                             0               0               0   \n",
       "\n",
       "      Region_Prarie  Region_Quebec  Region_West  Region_Yukon  \\\n",
       "0                 0              0            0             0   \n",
       "1                 0              0            0             0   \n",
       "2                 0              0            0             0   \n",
       "3                 0              0            0             0   \n",
       "4                 0              0            0             0   \n",
       "...             ...            ...          ...           ...   \n",
       "5491              0              0            1             0   \n",
       "5492              0              0            1             0   \n",
       "5493              0              0            1             0   \n",
       "5494              0              0            1             0   \n",
       "5495              0              0            1             0   \n",
       "\n",
       "      Customer_Segment_Corporate  ...  Product_Container_Small Box  \\\n",
       "0                              0  ...                            0   \n",
       "1                              0  ...                            0   \n",
       "2                              1  ...                            1   \n",
       "3                              0  ...                            0   \n",
       "4                              1  ...                            1   \n",
       "...                          ...  ...                          ...   \n",
       "5491                           0  ...                            0   \n",
       "5492                           1  ...                            1   \n",
       "5493                           1  ...                            0   \n",
       "5494                           0  ...                            0   \n",
       "5495                           0  ...                            0   \n",
       "\n",
       "      Product_Container_Small Pack  Product_Container_Wrap Bag  \\\n",
       "0                                0                           0   \n",
       "1                                0                           0   \n",
       "2                                0                           0   \n",
       "3                                0                           0   \n",
       "4                                0                           0   \n",
       "...                            ...                         ...   \n",
       "5491                             0                           0   \n",
       "5492                             0                           0   \n",
       "5493                             0                           0   \n",
       "5494                             0                           0   \n",
       "5495                             0                           0   \n",
       "\n",
       "      Order_Priority_lab  Order_Quantity     Sales  Discount  Unit_Price  \\\n",
       "0                      2        0.102041  0.002900  0.235294    0.005596   \n",
       "1                      5        0.979592  0.113632  0.411765    0.030547   \n",
       "2                      5        0.591837  0.055723  0.470588    0.028752   \n",
       "3                      1        0.367347  0.004391  0.470588    0.003065   \n",
       "4                      5        0.224490  0.001014  0.176471    0.000930   \n",
       "...                  ...             ...       ...       ...         ...   \n",
       "5491                   1        0.489796  0.024674  0.294118    0.013123   \n",
       "5492                   2        0.673469  0.011660  0.117647    0.004061   \n",
       "5493                   5        0.816327  0.113049  0.588235    0.038925   \n",
       "5494                   3        0.142857  0.014494  0.294118    0.022116   \n",
       "5495                   5        0.387755  0.022713  0.588235    0.015481   \n",
       "\n",
       "      Shipping_Cost  Return_Status  \n",
       "0          0.210119              0  \n",
       "1          0.411167              0  \n",
       "2          0.021310              0  \n",
       "3          0.033183              0  \n",
       "4          0.044021              0  \n",
       "...             ...            ...  \n",
       "5491       0.252740              0  \n",
       "5492       0.006089              0  \n",
       "5493       0.105760              0  \n",
       "5494       0.400511              0  \n",
       "5495       0.082197              0  \n",
       "\n",
       "[5496 rows x 27 columns]"
      ]
     },
     "execution_count": 39,
     "metadata": {},
     "output_type": "execute_result"
    }
   ],
   "source": [
    "## Joined dummy encoded - min max scaled - label encoded dataset and created a the final encoded modelling dataset\n",
    "\n",
    "superstore_enc_dumm_lab=pd.merge(superstore_mod_cat_dumm_enc,superstore_mod_cat_lab,left_index=True,right_index=True)\n",
    "superstore_enc_dumm_lab=superstore_enc_dumm_lab.drop('Order_Priority',axis=1)\n",
    "superstore_enc_cols=pd.merge(superstore_enc_dumm_lab,\n",
    "                       superstore_mod_num_minmaxsc,\n",
    "                       left_index=True,right_index=True)\n",
    "\n",
    "superstore_y=superstore[['Return_Status']]\n",
    "\n",
    "superstore_enc_cols_y=pd.merge(superstore_enc_cols,\n",
    "                       superstore_y,\n",
    "                       left_index=True,right_index=True)\n",
    "superstore_enc_cols_y"
   ]
  },
  {
   "cell_type": "markdown",
   "metadata": {},
   "source": [
    "## Target variable distribution\n",
    "#### Observation - Imbalance class distribution \n",
    "##### Note : Applied classification models without oversampling (Part 1) & Performed over sampling and implemented SMOTE RF model (Part 2)"
   ]
  },
  {
   "attachments": {
    "image.png": {
     "image/png": "[encoded data removed]"
    }
   },
   "cell_type": "markdown",
   "metadata": {},
   "source": [
    "![image.png](attachment:image.png)"
   ]
  },
  {
   "cell_type": "markdown",
   "metadata": {},
   "source": [
    "### Train test split and Target variable selection"
   ]
  },
  {
   "cell_type": "code",
   "execution_count": 40,
   "metadata": {},
   "outputs": [],
   "source": [
    "## Target variable selection and split % \n",
    "target_var='Return_Status'\n",
    "split_percentage=20"
   ]
  },
  {
   "cell_type": "code",
   "execution_count": 41,
   "metadata": {},
   "outputs": [],
   "source": [
    "## X and y seperation\n",
    "split_perc=split_percentage/100\n",
    "X=superstore_enc_cols_y.loc[:,superstore_enc_cols_y.columns]\n",
    "y=superstore_enc_cols_y[target_var]\n",
    "X=X.drop(target_var,axis=1)"
   ]
  },
  {
   "cell_type": "code",
   "execution_count": 42,
   "metadata": {},
   "outputs": [
    {
     "name": "stdout",
     "output_type": "stream",
     "text": [
      "Training-Validation Split Percentage:80\n",
      "Total Observation:5496\n",
      "Training Observation:4396\n",
      "Validation Observation:1100\n"
     ]
    }
   ],
   "source": [
    "## Splitting the data for modelling (without oversampling)\n",
    "x_train,x_valid,y_train,y_valid=train_test_split(X,y,test_size=split_perc,random_state=0)\n",
    "\n",
    "print(\"Training-Validation Split Percentage:{split}\".format(split=int((1-split_perc)*100)))\n",
    "print(\"Total Observation:{obs}\".format(obs=X.shape[0]))\n",
    "print(\"Training Observation:{train_obs}\".format(train_obs=x_train.shape[0]))\n",
    "print(\"Validation Observation:{valid_obs}\".format(valid_obs=x_valid.shape[0]))"
   ]
  },
  {
   "cell_type": "markdown",
   "metadata": {},
   "source": [
    "### Feature selection\n",
    "#### Multi colinearity check"
   ]
  },
  {
   "cell_type": "code",
   "execution_count": 43,
   "metadata": {},
   "outputs": [
    {
     "data": {
      "application/vnd.plotly.v1+json": {
       "config": {
        "displaylogo": false,
        "plotlyServerURL": "https://plot.ly"
       },
       "data": [
        {
         "marker": {
          "color": [
           "yellowgreen",
           "yellowgreen",
           "yellowgreen",
           "yellowgreen",
           "yellowgreen",
           "yellowgreen",
           "yellowgreen",
           "yellowgreen",
           "yellowgreen",
           "yellowgreen",
           "yellowgreen",
           "yellowgreen",
           "yellowgreen",
           "yellowgreen",
           "yellowgreen",
           "yellowgreen",
           "yellowgreen",
           "yellowgreen",
           "yellowgreen",
           "tomato",
           "tomato",
           "tomato",
           "tomato",
           "tomato",
           "tomato",
           "tomato"
          ]
         },
         "orientation": "h",
         "type": "bar",
         "x": [
          1.00367300401886,
          1.004918941614257,
          1.0659427826501868,
          1.201296311168702,
          1.317675944537345,
          1.420189877647678,
          1.5394865433880127,
          1.6153975058719072,
          1.7053910668639127,
          1.826736302482438,
          1.9167736906272839,
          2.0040009105953938,
          2.073709341109387,
          2.0987935039225984,
          2.223005335399282,
          2.3761751283634176,
          2.40532435121891,
          2.7427976273170676,
          3.2264591075274556,
          15,
          15,
          15,
          15,
          15,
          15,
          15
         ],
         "y": [
          "Order_Priority_lab",
          "Discount",
          "Region_Nunavut",
          "Order_Quantity",
          "Region_Northwest Territories",
          "Region_Yukon",
          "Region_Quebec",
          "Customer_Segment_Small Business",
          "Customer_Segment_Home Office",
          "Customer_Segment_Corporate",
          "Unit_Price",
          "Region_Prarie",
          "Region_Ontario",
          "Region_West",
          "Product_Category_Technology",
          "Product_Container_Jumbo Drum",
          "Sales",
          "Product_Category_Office Supplies",
          "Shipping_Cost",
          "Product_Container_Wrap Bag",
          "Product_Container_Small Box",
          "Product_Container_Medium Box",
          "Product_Container_Large Box",
          "Ship_Mode_Regular Air",
          "Product_Container_Small Pack",
          "Ship_Mode_Express Air"
         ]
        }
       ],
       "layout": {
        "height": 800,
        "shapes": [
         {
          "line": {
           "color": "midnightblue",
           "dash": "dot",
           "width": 2
          },
          "type": "line",
          "x0": 5,
          "x1": 5,
          "y0": 0,
          "y1": 26
         },
         {
          "line": {
           "color": "midnightblue",
           "dash": "dot",
           "width": 2
          },
          "type": "line",
          "x0": 10,
          "x1": 10,
          "y0": 0,
          "y1": 26
         }
        ],
        "template": {
         "data": {
          "bar": [
           {
            "error_x": {
             "color": "#2a3f5f"
            },
            "error_y": {
             "color": "#2a3f5f"
            },
            "marker": {
             "line": {
              "color": "#E5ECF6",
              "width": 0.5
             }
            },
            "type": "bar"
           }
          ],
          "barpolar": [
           {
            "marker": {
             "line": {
              "color": "#E5ECF6",
              "width": 0.5
             }
            },
            "type": "barpolar"
           }
          ],
          "carpet": [
           {
            "aaxis": {
             "endlinecolor": "#2a3f5f",
             "gridcolor": "white",
             "linecolor": "white",
             "minorgridcolor": "white",
             "startlinecolor": "#2a3f5f"
            },
            "baxis": {
             "endlinecolor": "#2a3f5f",
             "gridcolor": "white",
             "linecolor": "white",
             "minorgridcolor": "white",
             "startlinecolor": "#2a3f5f"
            },
            "type": "carpet"
           }
          ],
          "choropleth": [
           {
            "colorbar": {
             "outlinewidth": 0,
             "ticks": ""
            },
            "type": "choropleth"
           }
          ],
          "contour": [
           {
            "colorbar": {
             "outlinewidth": 0,
             "ticks": ""
            },
            "colorscale": [
             [
              0,
              "#0d0887"
             ],
             [
              0.1111111111111111,
              "#46039f"
             ],
             [
              0.2222222222222222,
              "#7201a8"
             ],
             [
              0.3333333333333333,
              "#9c179e"
             ],
             [
              0.4444444444444444,
              "#bd3786"
             ],
             [
              0.5555555555555556,
              "#d8576b"
             ],
             [
              0.6666666666666666,
              "#ed7953"
             ],
             [
              0.7777777777777778,
              "#fb9f3a"
             ],
             [
              0.8888888888888888,
              "#fdca26"
             ],
             [
              1,
              "#f0f921"
             ]
            ],
            "type": "contour"
           }
          ],
          "contourcarpet": [
           {
            "colorbar": {
             "outlinewidth": 0,
             "ticks": ""
            },
            "type": "contourcarpet"
           }
          ],
          "heatmap": [
           {
            "colorbar": {
             "outlinewidth": 0,
             "ticks": ""
            },
            "colorscale": [
             [
              0,
              "#0d0887"
             ],
             [
              0.1111111111111111,
              "#46039f"
             ],
             [
              0.2222222222222222,
              "#7201a8"
             ],
             [
              0.3333333333333333,
              "#9c179e"
             ],
             [
              0.4444444444444444,
              "#bd3786"
             ],
             [
              0.5555555555555556,
              "#d8576b"
             ],
             [
              0.6666666666666666,
              "#ed7953"
             ],
             [
              0.7777777777777778,
              "#fb9f3a"
             ],
             [
              0.8888888888888888,
              "#fdca26"
             ],
             [
              1,
              "#f0f921"
             ]
            ],
            "type": "heatmap"
           }
          ],
          "heatmapgl": [
           {
            "colorbar": {
             "outlinewidth": 0,
             "ticks": ""
            },
            "colorscale": [
             [
              0,
              "#0d0887"
             ],
             [
              0.1111111111111111,
              "#46039f"
             ],
             [
              0.2222222222222222,
              "#7201a8"
             ],
             [
              0.3333333333333333,
              "#9c179e"
             ],
             [
              0.4444444444444444,
              "#bd3786"
             ],
             [
              0.5555555555555556,
              "#d8576b"
             ],
             [
              0.6666666666666666,
              "#ed7953"
             ],
             [
              0.7777777777777778,
              "#fb9f3a"
             ],
             [
              0.8888888888888888,
              "#fdca26"
             ],
             [
              1,
              "#f0f921"
             ]
            ],
            "type": "heatmapgl"
           }
          ],
          "histogram": [
           {
            "marker": {
             "colorbar": {
              "outlinewidth": 0,
              "ticks": ""
             }
            },
            "type": "histogram"
           }
          ],
          "histogram2d": [
           {
            "colorbar": {
             "outlinewidth": 0,
             "ticks": ""
            },
            "colorscale": [
             [
              0,
              "#0d0887"
             ],
             [
              0.1111111111111111,
              "#46039f"
             ],
             [
              0.2222222222222222,
              "#7201a8"
             ],
             [
              0.3333333333333333,
              "#9c179e"
             ],
             [
              0.4444444444444444,
              "#bd3786"
             ],
             [
              0.5555555555555556,
              "#d8576b"
             ],
             [
              0.6666666666666666,
              "#ed7953"
             ],
             [
              0.7777777777777778,
              "#fb9f3a"
             ],
             [
              0.8888888888888888,
              "#fdca26"
             ],
             [
              1,
              "#f0f921"
             ]
            ],
            "type": "histogram2d"
           }
          ],
          "histogram2dcontour": [
           {
            "colorbar": {
             "outlinewidth": 0,
             "ticks": ""
            },
            "colorscale": [
             [
              0,
              "#0d0887"
             ],
             [
              0.1111111111111111,
              "#46039f"
             ],
             [
              0.2222222222222222,
              "#7201a8"
             ],
             [
              0.3333333333333333,
              "#9c179e"
             ],
             [
              0.4444444444444444,
              "#bd3786"
             ],
             [
              0.5555555555555556,
              "#d8576b"
             ],
             [
              0.6666666666666666,
              "#ed7953"
             ],
             [
              0.7777777777777778,
              "#fb9f3a"
             ],
             [
              0.8888888888888888,
              "#fdca26"
             ],
             [
              1,
              "#f0f921"
             ]
            ],
            "type": "histogram2dcontour"
           }
          ],
          "mesh3d": [
           {
            "colorbar": {
             "outlinewidth": 0,
             "ticks": ""
            },
            "type": "mesh3d"
           }
          ],
          "parcoords": [
           {
            "line": {
             "colorbar": {
              "outlinewidth": 0,
              "ticks": ""
             }
            },
            "type": "parcoords"
           }
          ],
          "pie": [
           {
            "automargin": true,
            "type": "pie"
           }
          ],
          "scatter": [
           {
            "marker": {
             "colorbar": {
              "outlinewidth": 0,
              "ticks": ""
             }
            },
            "type": "scatter"
           }
          ],
          "scatter3d": [
           {
            "line": {
             "colorbar": {
              "outlinewidth": 0,
              "ticks": ""
             }
            },
            "marker": {
             "colorbar": {
              "outlinewidth": 0,
              "ticks": ""
             }
            },
            "type": "scatter3d"
           }
          ],
          "scattercarpet": [
           {
            "marker": {
             "colorbar": {
              "outlinewidth": 0,
              "ticks": ""
             }
            },
            "type": "scattercarpet"
           }
          ],
          "scattergeo": [
           {
            "marker": {
             "colorbar": {
              "outlinewidth": 0,
              "ticks": ""
             }
            },
            "type": "scattergeo"
           }
          ],
          "scattergl": [
           {
            "marker": {
             "colorbar": {
              "outlinewidth": 0,
              "ticks": ""
             }
            },
            "type": "scattergl"
           }
          ],
          "scattermapbox": [
           {
            "marker": {
             "colorbar": {
              "outlinewidth": 0,
              "ticks": ""
             }
            },
            "type": "scattermapbox"
           }
          ],
          "scatterpolar": [
           {
            "marker": {
             "colorbar": {
              "outlinewidth": 0,
              "ticks": ""
             }
            },
            "type": "scatterpolar"
           }
          ],
          "scatterpolargl": [
           {
            "marker": {
             "colorbar": {
              "outlinewidth": 0,
              "ticks": ""
             }
            },
            "type": "scatterpolargl"
           }
          ],
          "scatterternary": [
           {
            "marker": {
             "colorbar": {
              "outlinewidth": 0,
              "ticks": ""
             }
            },
            "type": "scatterternary"
           }
          ],
          "surface": [
           {
            "colorbar": {
             "outlinewidth": 0,
             "ticks": ""
            },
            "colorscale": [
             [
              0,
              "#0d0887"
             ],
             [
              0.1111111111111111,
              "#46039f"
             ],
             [
              0.2222222222222222,
              "#7201a8"
             ],
             [
              0.3333333333333333,
              "#9c179e"
             ],
             [
              0.4444444444444444,
              "#bd3786"
             ],
             [
              0.5555555555555556,
              "#d8576b"
             ],
             [
              0.6666666666666666,
              "#ed7953"
             ],
             [
              0.7777777777777778,
              "#fb9f3a"
             ],
             [
              0.8888888888888888,
              "#fdca26"
             ],
             [
              1,
              "#f0f921"
             ]
            ],
            "type": "surface"
           }
          ],
          "table": [
           {
            "cells": {
             "fill": {
              "color": "#EBF0F8"
             },
             "line": {
              "color": "white"
             }
            },
            "header": {
             "fill": {
              "color": "#C8D4E3"
             },
             "line": {
              "color": "white"
             }
            },
            "type": "table"
           }
          ]
         },
         "layout": {
          "annotationdefaults": {
           "arrowcolor": "#2a3f5f",
           "arrowhead": 0,
           "arrowwidth": 1
          },
          "coloraxis": {
           "colorbar": {
            "outlinewidth": 0,
            "ticks": ""
           }
          },
          "colorscale": {
           "diverging": [
            [
             0,
             "#8e0152"
            ],
            [
             0.1,
             "#c51b7d"
            ],
            [
             0.2,
             "#de77ae"
            ],
            [
             0.3,
             "#f1b6da"
            ],
            [
             0.4,
             "#fde0ef"
            ],
            [
             0.5,
             "#f7f7f7"
            ],
            [
             0.6,
             "#e6f5d0"
            ],
            [
             0.7,
             "#b8e186"
            ],
            [
             0.8,
             "#7fbc41"
            ],
            [
             0.9,
             "#4d9221"
            ],
            [
             1,
             "#276419"
            ]
           ],
           "sequential": [
            [
             0,
             "#0d0887"
            ],
            [
             0.1111111111111111,
             "#46039f"
            ],
            [
             0.2222222222222222,
             "#7201a8"
            ],
            [
             0.3333333333333333,
             "#9c179e"
            ],
            [
             0.4444444444444444,
             "#bd3786"
            ],
            [
             0.5555555555555556,
             "#d8576b"
            ],
            [
             0.6666666666666666,
             "#ed7953"
            ],
            [
             0.7777777777777778,
             "#fb9f3a"
            ],
            [
             0.8888888888888888,
             "#fdca26"
            ],
            [
             1,
             "#f0f921"
            ]
           ],
           "sequentialminus": [
            [
             0,
             "#0d0887"
            ],
            [
             0.1111111111111111,
             "#46039f"
            ],
            [
             0.2222222222222222,
             "#7201a8"
            ],
            [
             0.3333333333333333,
             "#9c179e"
            ],
            [
             0.4444444444444444,
             "#bd3786"
            ],
            [
             0.5555555555555556,
             "#d8576b"
            ],
            [
             0.6666666666666666,
             "#ed7953"
            ],
            [
             0.7777777777777778,
             "#fb9f3a"
            ],
            [
             0.8888888888888888,
             "#fdca26"
            ],
            [
             1,
             "#f0f921"
            ]
           ]
          },
          "colorway": [
           "#636efa",
           "#EF553B",
           "#00cc96",
           "#ab63fa",
           "#FFA15A",
           "#19d3f3",
           "#FF6692",
           "#B6E880",
           "#FF97FF",
           "#FECB52"
          ],
          "font": {
           "color": "#2a3f5f"
          },
          "geo": {
           "bgcolor": "white",
           "lakecolor": "white",
           "landcolor": "#E5ECF6",
           "showlakes": true,
           "showland": true,
           "subunitcolor": "white"
          },
          "hoverlabel": {
           "align": "left"
          },
          "hovermode": "closest",
          "mapbox": {
           "style": "light"
          },
          "paper_bgcolor": "white",
          "plot_bgcolor": "#E5ECF6",
          "polar": {
           "angularaxis": {
            "gridcolor": "white",
            "linecolor": "white",
            "ticks": ""
           },
           "bgcolor": "#E5ECF6",
           "radialaxis": {
            "gridcolor": "white",
            "linecolor": "white",
            "ticks": ""
           }
          },
          "scene": {
           "xaxis": {
            "backgroundcolor": "#E5ECF6",
            "gridcolor": "white",
            "gridwidth": 2,
            "linecolor": "white",
            "showbackground": true,
            "ticks": "",
            "zerolinecolor": "white"
           },
           "yaxis": {
            "backgroundcolor": "#E5ECF6",
            "gridcolor": "white",
            "gridwidth": 2,
            "linecolor": "white",
            "showbackground": true,
            "ticks": "",
            "zerolinecolor": "white"
           },
           "zaxis": {
            "backgroundcolor": "#E5ECF6",
            "gridcolor": "white",
            "gridwidth": 2,
            "linecolor": "white",
            "showbackground": true,
            "ticks": "",
            "zerolinecolor": "white"
           }
          },
          "shapedefaults": {
           "line": {
            "color": "#2a3f5f"
           }
          },
          "ternary": {
           "aaxis": {
            "gridcolor": "white",
            "linecolor": "white",
            "ticks": ""
           },
           "baxis": {
            "gridcolor": "white",
            "linecolor": "white",
            "ticks": ""
           },
           "bgcolor": "#E5ECF6",
           "caxis": {
            "gridcolor": "white",
            "linecolor": "white",
            "ticks": ""
           }
          },
          "title": {
           "x": 0.05
          },
          "xaxis": {
           "automargin": true,
           "gridcolor": "white",
           "linecolor": "white",
           "ticks": "",
           "title": {
            "standoff": 15
           },
           "zerolinecolor": "white",
           "zerolinewidth": 2
          },
          "yaxis": {
           "automargin": true,
           "gridcolor": "white",
           "linecolor": "white",
           "ticks": "",
           "title": {
            "standoff": 15
           },
           "zerolinecolor": "white",
           "zerolinewidth": 2
          }
         }
        },
        "title": {
         "text": "VIF plot"
        },
        "width": 800,
        "xaxis": {
         "title": {
          "text": "VIF"
         }
        },
        "yaxis": {
         "title": {
          "text": "Features"
         }
        }
       }
      },
      "text/html": [
       "<div>\n",
       "        \n",
       "        \n",
       "            <div id=\"3cb0ea17-78ce-45dc-8403-02a9118cac2f\" class=\"plotly-graph-div\" style=\"height:800px; width:800px;\"></div>\n",
       "            <script type=\"text/javascript\">\n",
       "                require([\"plotly\"], function(Plotly) {\n",
       "                    window.PLOTLYENV=window.PLOTLYENV || {};\n",
       "                    \n",
       "                if (document.getElementById(\"3cb0ea17-78ce-45dc-8403-02a9118cac2f\")) {\n",
       "                    Plotly.newPlot(\n",
       "                        '3cb0ea17-78ce-45dc-8403-02a9118cac2f',\n",
       "                        [{\"marker\": {\"color\": [\"yellowgreen\", \"yellowgreen\", \"yellowgreen\", \"yellowgreen\", \"yellowgreen\", \"yellowgreen\", \"yellowgreen\", \"yellowgreen\", \"yellowgreen\", \"yellowgreen\", \"yellowgreen\", \"yellowgreen\", \"yellowgreen\", \"yellowgreen\", \"yellowgreen\", \"yellowgreen\", \"yellowgreen\", \"yellowgreen\", \"yellowgreen\", \"tomato\", \"tomato\", \"tomato\", \"tomato\", \"tomato\", \"tomato\", \"tomato\"]}, \"orientation\": \"h\", \"type\": \"bar\", \"x\": [1.00367300401886, 1.004918941614257, 1.0659427826501868, 1.201296311168702, 1.317675944537345, 1.420189877647678, 1.5394865433880127, 1.6153975058719072, 1.7053910668639127, 1.826736302482438, 1.9167736906272839, 2.0040009105953938, 2.073709341109387, 2.0987935039225984, 2.223005335399282, 2.3761751283634176, 2.40532435121891, 2.7427976273170676, 3.2264591075274556, 15.0, 15.0, 15.0, 15.0, 15.0, 15.0, 15.0], \"y\": [\"Order_Priority_lab\", \"Discount\", \"Region_Nunavut\", \"Order_Quantity\", \"Region_Northwest Territories\", \"Region_Yukon\", \"Region_Quebec\", \"Customer_Segment_Small Business\", \"Customer_Segment_Home Office\", \"Customer_Segment_Corporate\", \"Unit_Price\", \"Region_Prarie\", \"Region_Ontario\", \"Region_West\", \"Product_Category_Technology\", \"Product_Container_Jumbo Drum\", \"Sales\", \"Product_Category_Office Supplies\", \"Shipping_Cost\", \"Product_Container_Wrap Bag\", \"Product_Container_Small Box\", \"Product_Container_Medium Box\", \"Product_Container_Large Box\", \"Ship_Mode_Regular Air\", \"Product_Container_Small Pack\", \"Ship_Mode_Express Air\"]}],\n",
       "                        {\"height\": 800, \"shapes\": [{\"line\": {\"color\": \"midnightblue\", \"dash\": \"dot\", \"width\": 2}, \"type\": \"line\", \"x0\": 5, \"x1\": 5, \"y0\": 0, \"y1\": 26}, {\"line\": {\"color\": \"midnightblue\", \"dash\": \"dot\", \"width\": 2}, \"type\": \"line\", \"x0\": 10, \"x1\": 10, \"y0\": 0, \"y1\": 26}], \"template\": {\"data\": {\"bar\": [{\"error_x\": {\"color\": \"#2a3f5f\"}, \"error_y\": {\"color\": \"#2a3f5f\"}, \"marker\": {\"line\": {\"color\": \"#E5ECF6\", \"width\": 0.5}}, \"type\": \"bar\"}], \"barpolar\": [{\"marker\": {\"line\": {\"color\": \"#E5ECF6\", \"width\": 0.5}}, \"type\": \"barpolar\"}], \"carpet\": [{\"aaxis\": {\"endlinecolor\": \"#2a3f5f\", \"gridcolor\": \"white\", \"linecolor\": \"white\", \"minorgridcolor\": \"white\", \"startlinecolor\": \"#2a3f5f\"}, \"baxis\": {\"endlinecolor\": \"#2a3f5f\", \"gridcolor\": \"white\", \"linecolor\": \"white\", \"minorgridcolor\": \"white\", \"startlinecolor\": \"#2a3f5f\"}, \"type\": \"carpet\"}], \"choropleth\": [{\"colorbar\": {\"outlinewidth\": 0, \"ticks\": \"\"}, \"type\": \"choropleth\"}], \"contour\": [{\"colorbar\": {\"outlinewidth\": 0, \"ticks\": \"\"}, \"colorscale\": [[0.0, \"#0d0887\"], [0.1111111111111111, \"#46039f\"], [0.2222222222222222, \"#7201a8\"], [0.3333333333333333, \"#9c179e\"], [0.4444444444444444, \"#bd3786\"], [0.5555555555555556, \"#d8576b\"], [0.6666666666666666, \"#ed7953\"], [0.7777777777777778, \"#fb9f3a\"], [0.8888888888888888, \"#fdca26\"], [1.0, \"#f0f921\"]], \"type\": \"contour\"}], \"contourcarpet\": [{\"colorbar\": {\"outlinewidth\": 0, \"ticks\": \"\"}, \"type\": \"contourcarpet\"}], \"heatmap\": [{\"colorbar\": {\"outlinewidth\": 0, \"ticks\": \"\"}, \"colorscale\": [[0.0, \"#0d0887\"], [0.1111111111111111, \"#46039f\"], [0.2222222222222222, \"#7201a8\"], [0.3333333333333333, \"#9c179e\"], [0.4444444444444444, \"#bd3786\"], [0.5555555555555556, \"#d8576b\"], [0.6666666666666666, \"#ed7953\"], [0.7777777777777778, \"#fb9f3a\"], [0.8888888888888888, \"#fdca26\"], [1.0, \"#f0f921\"]], \"type\": \"heatmap\"}], \"heatmapgl\": [{\"colorbar\": {\"outlinewidth\": 0, \"ticks\": \"\"}, \"colorscale\": [[0.0, \"#0d0887\"], [0.1111111111111111, \"#46039f\"], [0.2222222222222222, \"#7201a8\"], [0.3333333333333333, \"#9c179e\"], [0.4444444444444444, \"#bd3786\"], [0.5555555555555556, \"#d8576b\"], [0.6666666666666666, \"#ed7953\"], [0.7777777777777778, \"#fb9f3a\"], [0.8888888888888888, \"#fdca26\"], [1.0, \"#f0f921\"]], \"type\": \"heatmapgl\"}], \"histogram\": [{\"marker\": {\"colorbar\": {\"outlinewidth\": 0, \"ticks\": \"\"}}, \"type\": \"histogram\"}], \"histogram2d\": [{\"colorbar\": {\"outlinewidth\": 0, \"ticks\": \"\"}, \"colorscale\": [[0.0, \"#0d0887\"], [0.1111111111111111, \"#46039f\"], [0.2222222222222222, \"#7201a8\"], [0.3333333333333333, \"#9c179e\"], [0.4444444444444444, \"#bd3786\"], [0.5555555555555556, \"#d8576b\"], [0.6666666666666666, \"#ed7953\"], [0.7777777777777778, \"#fb9f3a\"], [0.8888888888888888, \"#fdca26\"], [1.0, \"#f0f921\"]], \"type\": \"histogram2d\"}], \"histogram2dcontour\": [{\"colorbar\": {\"outlinewidth\": 0, \"ticks\": \"\"}, \"colorscale\": [[0.0, \"#0d0887\"], [0.1111111111111111, \"#46039f\"], [0.2222222222222222, \"#7201a8\"], [0.3333333333333333, \"#9c179e\"], [0.4444444444444444, \"#bd3786\"], [0.5555555555555556, \"#d8576b\"], [0.6666666666666666, \"#ed7953\"], [0.7777777777777778, \"#fb9f3a\"], [0.8888888888888888, \"#fdca26\"], [1.0, \"#f0f921\"]], \"type\": \"histogram2dcontour\"}], \"mesh3d\": [{\"colorbar\": {\"outlinewidth\": 0, \"ticks\": \"\"}, \"type\": \"mesh3d\"}], \"parcoords\": [{\"line\": {\"colorbar\": {\"outlinewidth\": 0, \"ticks\": \"\"}}, \"type\": \"parcoords\"}], \"pie\": [{\"automargin\": true, \"type\": \"pie\"}], \"scatter\": [{\"marker\": {\"colorbar\": {\"outlinewidth\": 0, \"ticks\": \"\"}}, \"type\": \"scatter\"}], \"scatter3d\": [{\"line\": {\"colorbar\": {\"outlinewidth\": 0, \"ticks\": \"\"}}, \"marker\": {\"colorbar\": {\"outlinewidth\": 0, \"ticks\": \"\"}}, \"type\": \"scatter3d\"}], \"scattercarpet\": [{\"marker\": {\"colorbar\": {\"outlinewidth\": 0, \"ticks\": \"\"}}, \"type\": \"scattercarpet\"}], \"scattergeo\": [{\"marker\": {\"colorbar\": {\"outlinewidth\": 0, \"ticks\": \"\"}}, \"type\": \"scattergeo\"}], \"scattergl\": [{\"marker\": {\"colorbar\": {\"outlinewidth\": 0, \"ticks\": \"\"}}, \"type\": \"scattergl\"}], \"scattermapbox\": [{\"marker\": {\"colorbar\": {\"outlinewidth\": 0, \"ticks\": \"\"}}, \"type\": \"scattermapbox\"}], \"scatterpolar\": [{\"marker\": {\"colorbar\": {\"outlinewidth\": 0, \"ticks\": \"\"}}, \"type\": \"scatterpolar\"}], \"scatterpolargl\": [{\"marker\": {\"colorbar\": {\"outlinewidth\": 0, \"ticks\": \"\"}}, \"type\": \"scatterpolargl\"}], \"scatterternary\": [{\"marker\": {\"colorbar\": {\"outlinewidth\": 0, \"ticks\": \"\"}}, \"type\": \"scatterternary\"}], \"surface\": [{\"colorbar\": {\"outlinewidth\": 0, \"ticks\": \"\"}, \"colorscale\": [[0.0, \"#0d0887\"], [0.1111111111111111, \"#46039f\"], [0.2222222222222222, \"#7201a8\"], [0.3333333333333333, \"#9c179e\"], [0.4444444444444444, \"#bd3786\"], [0.5555555555555556, \"#d8576b\"], [0.6666666666666666, \"#ed7953\"], [0.7777777777777778, \"#fb9f3a\"], [0.8888888888888888, \"#fdca26\"], [1.0, \"#f0f921\"]], \"type\": \"surface\"}], \"table\": [{\"cells\": {\"fill\": {\"color\": \"#EBF0F8\"}, \"line\": {\"color\": \"white\"}}, \"header\": {\"fill\": {\"color\": \"#C8D4E3\"}, \"line\": {\"color\": \"white\"}}, \"type\": \"table\"}]}, \"layout\": {\"annotationdefaults\": {\"arrowcolor\": \"#2a3f5f\", \"arrowhead\": 0, \"arrowwidth\": 1}, \"coloraxis\": {\"colorbar\": {\"outlinewidth\": 0, \"ticks\": \"\"}}, \"colorscale\": {\"diverging\": [[0, \"#8e0152\"], [0.1, \"#c51b7d\"], [0.2, \"#de77ae\"], [0.3, \"#f1b6da\"], [0.4, \"#fde0ef\"], [0.5, \"#f7f7f7\"], [0.6, \"#e6f5d0\"], [0.7, \"#b8e186\"], [0.8, \"#7fbc41\"], [0.9, \"#4d9221\"], [1, \"#276419\"]], \"sequential\": [[0.0, \"#0d0887\"], [0.1111111111111111, \"#46039f\"], [0.2222222222222222, \"#7201a8\"], [0.3333333333333333, \"#9c179e\"], [0.4444444444444444, \"#bd3786\"], [0.5555555555555556, \"#d8576b\"], [0.6666666666666666, \"#ed7953\"], [0.7777777777777778, \"#fb9f3a\"], [0.8888888888888888, \"#fdca26\"], [1.0, \"#f0f921\"]], \"sequentialminus\": [[0.0, \"#0d0887\"], [0.1111111111111111, \"#46039f\"], [0.2222222222222222, \"#7201a8\"], [0.3333333333333333, \"#9c179e\"], [0.4444444444444444, \"#bd3786\"], [0.5555555555555556, \"#d8576b\"], [0.6666666666666666, \"#ed7953\"], [0.7777777777777778, \"#fb9f3a\"], [0.8888888888888888, \"#fdca26\"], [1.0, \"#f0f921\"]]}, \"colorway\": [\"#636efa\", \"#EF553B\", \"#00cc96\", \"#ab63fa\", \"#FFA15A\", \"#19d3f3\", \"#FF6692\", \"#B6E880\", \"#FF97FF\", \"#FECB52\"], \"font\": {\"color\": \"#2a3f5f\"}, \"geo\": {\"bgcolor\": \"white\", \"lakecolor\": \"white\", \"landcolor\": \"#E5ECF6\", \"showlakes\": true, \"showland\": true, \"subunitcolor\": \"white\"}, \"hoverlabel\": {\"align\": \"left\"}, \"hovermode\": \"closest\", \"mapbox\": {\"style\": \"light\"}, \"paper_bgcolor\": \"white\", \"plot_bgcolor\": \"#E5ECF6\", \"polar\": {\"angularaxis\": {\"gridcolor\": \"white\", \"linecolor\": \"white\", \"ticks\": \"\"}, \"bgcolor\": \"#E5ECF6\", \"radialaxis\": {\"gridcolor\": \"white\", \"linecolor\": \"white\", \"ticks\": \"\"}}, \"scene\": {\"xaxis\": {\"backgroundcolor\": \"#E5ECF6\", \"gridcolor\": \"white\", \"gridwidth\": 2, \"linecolor\": \"white\", \"showbackground\": true, \"ticks\": \"\", \"zerolinecolor\": \"white\"}, \"yaxis\": {\"backgroundcolor\": \"#E5ECF6\", \"gridcolor\": \"white\", \"gridwidth\": 2, \"linecolor\": \"white\", \"showbackground\": true, \"ticks\": \"\", \"zerolinecolor\": \"white\"}, \"zaxis\": {\"backgroundcolor\": \"#E5ECF6\", \"gridcolor\": \"white\", \"gridwidth\": 2, \"linecolor\": \"white\", \"showbackground\": true, \"ticks\": \"\", \"zerolinecolor\": \"white\"}}, \"shapedefaults\": {\"line\": {\"color\": \"#2a3f5f\"}}, \"ternary\": {\"aaxis\": {\"gridcolor\": \"white\", \"linecolor\": \"white\", \"ticks\": \"\"}, \"baxis\": {\"gridcolor\": \"white\", \"linecolor\": \"white\", \"ticks\": \"\"}, \"bgcolor\": \"#E5ECF6\", \"caxis\": {\"gridcolor\": \"white\", \"linecolor\": \"white\", \"ticks\": \"\"}}, \"title\": {\"x\": 0.05}, \"xaxis\": {\"automargin\": true, \"gridcolor\": \"white\", \"linecolor\": \"white\", \"ticks\": \"\", \"title\": {\"standoff\": 15}, \"zerolinecolor\": \"white\", \"zerolinewidth\": 2}, \"yaxis\": {\"automargin\": true, \"gridcolor\": \"white\", \"linecolor\": \"white\", \"ticks\": \"\", \"title\": {\"standoff\": 15}, \"zerolinecolor\": \"white\", \"zerolinewidth\": 2}}}, \"title\": {\"text\": \"VIF plot\"}, \"width\": 800, \"xaxis\": {\"title\": {\"text\": \"VIF\"}}, \"yaxis\": {\"title\": {\"text\": \"Features\"}}},\n",
       "                        {\"displaylogo\": false, \"responsive\": true}\n",
       "                    ).then(function(){\n",
       "                            \n",
       "var gd = document.getElementById('3cb0ea17-78ce-45dc-8403-02a9118cac2f');\n",
       "var x = new MutationObserver(function (mutations, observer) {{\n",
       "        var display = window.getComputedStyle(gd).display;\n",
       "        if (!display || display === 'none') {{\n",
       "            console.log([gd, 'removed!']);\n",
       "            Plotly.purge(gd);\n",
       "            observer.disconnect();\n",
       "        }}\n",
       "}});\n",
       "\n",
       "// Listen for the removal of the full notebook cells\n",
       "var notebookContainer = gd.closest('#notebook-container');\n",
       "if (notebookContainer) {{\n",
       "    x.observe(notebookContainer, {childList: true});\n",
       "}}\n",
       "\n",
       "// Listen for the clearing of the current output cell\n",
       "var outputEl = gd.closest('.output');\n",
       "if (outputEl) {{\n",
       "    x.observe(outputEl, {childList: true});\n",
       "}}\n",
       "\n",
       "                        })\n",
       "                };\n",
       "                });\n",
       "            </script>\n",
       "        </div>"
      ]
     },
     "metadata": {},
     "output_type": "display_data"
    },
    {
     "data": {
      "text/markdown": [
       "Successfully dropped:Ship_Mode_Express Air,Ship_Mode_Regular Air,Product_Container_Large Box,Product_Container_Medium Box,Product_Container_Small Box,Product_Container_Small Pack,Product_Container_Wrap Bag"
      ],
      "text/plain": [
       "<IPython.core.display.Markdown object>"
      ]
     },
     "metadata": {},
     "output_type": "display_data"
    },
    {
     "data": {
      "text/plain": [
       "Region_Northwest Territories          uint8\n",
       "Region_Nunavut                        uint8\n",
       "Region_Ontario                        uint8\n",
       "Region_Prarie                         uint8\n",
       "Region_Quebec                         uint8\n",
       "Region_West                           uint8\n",
       "Region_Yukon                          uint8\n",
       "Customer_Segment_Corporate            uint8\n",
       "Customer_Segment_Home Office          uint8\n",
       "Customer_Segment_Small Business       uint8\n",
       "Product_Category_Office Supplies      uint8\n",
       "Product_Category_Technology           uint8\n",
       "Product_Container_Jumbo Drum          uint8\n",
       "Order_Priority_lab                    int64\n",
       "Order_Quantity                      float64\n",
       "Sales                               float64\n",
       "Discount                            float64\n",
       "Unit_Price                          float64\n",
       "Shipping_Cost                       float64\n",
       "dtype: object"
      ]
     },
     "metadata": {},
     "output_type": "display_data"
    }
   ],
   "source": [
    "def multi_collinear(x_train_processed):\n",
    "    truncate_value=15\n",
    "    exog_df=x_train_processed.loc[:,x_train_processed.columns!=target_var]\n",
    "    exog_df=x_train_processed.copy()\n",
    "    \n",
    "    exog_df=add_constant(exog_df)\n",
    "    vifs=pd.Series([1/(1.-OLS(exog_df[col].values,\n",
    "                              exog_df.loc[:,exog_df.columns!=col].values).fit().rsquared) for col in exog_df],\n",
    "                   index=exog_df.columns,\n",
    "                   name='VIF')\n",
    "    \n",
    "    vifs=pd.DataFrame(vifs)\n",
    "    vifs.drop('const',axis=0,inplace=True)\n",
    "    vifs=vifs['VIF'].where(vifs['VIF']<=truncate_value,truncate_value)\n",
    "    vifs=pd.DataFrame(vifs)\n",
    "    vifs_df=vifs.sort_values(by=['VIF'],ascending=True)\n",
    "    \n",
    "    vifs_df['colors']=np.where(vifs_df.VIF<=5,'yellowgreen',\n",
    "                                 np.where((vifs_df.VIF>5) & (vifs_df.VIF<=10),'steelblue','tomato'))\n",
    "    \n",
    "    Layout=go.Layout(title=\"VIF plot\", xaxis=dict(title='VIF'),yaxis=dict(title='Features'))\n",
    "    fig=go.Figure(go.Bar(x=vifs_df.VIF,y=vifs_df.index.tolist(),\n",
    "                         orientation='h',marker_color=vifs_df['colors']),layout=Layout)\n",
    "    fig.add_shape(type=\"line\",x0=5,y0=0,x1=5,y1=len(vifs_df.index.tolist()),\n",
    "                  line=dict(color=\"midnightblue\",width=2,dash=\"dot\"))\n",
    "    fig.add_shape(type=\"line\",x0=10,y0=0,x1=10,y1=len(vifs_df.index.tolist()),\n",
    "                  line=dict(color=\"midnightblue\",width=2,dash=\"dot\"))\n",
    "    \n",
    "    fig.update_layout(width=800,height=800)\n",
    "    fig.show(config={'displaylogo':False})\n",
    "    return vifs\n",
    "\n",
    "vifs=multi_collinear(x_train)\n",
    "\n",
    "\n",
    "def multi_col_vars(vifs):\n",
    "    multicorr_vars=vifs['VIF'].loc[lambda x:x>=10].index.tolist()\n",
    "    col_to_drop=multicorr_vars\n",
    "    \n",
    "    if col_to_drop==[]:\n",
    "        #clear_output()\n",
    "        print(\"No columns were dropped\")\n",
    "    else:\n",
    "        #clear_output()\n",
    "        x_train.drop(col_to_drop,axis=1,inplace=True)\n",
    "        display(Markdown('Successfully dropped:{}'.format(\",\".join(col_to_drop))))\n",
    "        \n",
    "        display(x_train.dtypes)\n",
    "    return x_train\n",
    "\n",
    "\n",
    "x_train=multi_col_vars(vifs)"
   ]
  },
  {
   "cell_type": "code",
   "execution_count": 44,
   "metadata": {},
   "outputs": [
    {
     "name": "stdout",
     "output_type": "stream",
     "text": [
      "No columns with 0 std dev.\n"
     ]
    },
    {
     "data": {
      "text/plain": [
       "([], {}, [])"
      ]
     },
     "execution_count": 44,
     "metadata": {},
     "output_type": "execute_result"
    }
   ],
   "source": [
    "## Chceking variability between the column values\n",
    "def variability(x_train):\n",
    "    selected_features=[]\n",
    "    selected_features_dict={}\n",
    "    col_drop=[]\n",
    "    zero_variance=(x_train.describe().loc['std']==0)\n",
    "    zero_variance=zero_variance[zero_variance].index.tolist()\n",
    "    if len(zero_variance)==0:\n",
    "        print('No columns with 0 std dev.')\n",
    "    else:\n",
    "        display(pd.DataFrame(zero_varinace,columns=['Features']))\n",
    "        col_drop.extend(zero_variance)\n",
    "    return selected_features,selected_features_dict,col_drop\n",
    "\n",
    "variability(x_train)"
   ]
  },
  {
   "cell_type": "code",
   "execution_count": 45,
   "metadata": {},
   "outputs": [],
   "source": [
    "## Filtering the list of columns in the x_test dataframe as per the x_train VIF removed columns\n",
    "x_test=[]\n",
    "for i in x_train:\n",
    "    if i in x_valid:\n",
    "        x_test.append(i)\n",
    "        \n",
    "x_test=x_valid[x_test]\n",
    "#x_test"
   ]
  },
  {
   "cell_type": "markdown",
   "metadata": {},
   "source": [
    "#### Feature importance check using Random foreset and Logistic regression models"
   ]
  },
  {
   "cell_type": "code",
   "execution_count": 46,
   "metadata": {},
   "outputs": [
    {
     "data": {
      "text/plain": [
       "Text(0.5, 1.0, 'Random Forest imp.')"
      ]
     },
     "execution_count": 46,
     "metadata": {},
     "output_type": "execute_result"
    },
    {
     "data": {
      "image/png": "[encoded data removed]",
      "text/plain": [
       "<Figure size 1224x720 with 2 Axes>"
      ]
     },
     "metadata": {
      "needs_background": "light"
     },
     "output_type": "display_data"
    }
   ],
   "source": [
    "## Checking the \"m\" value of the features using random forest baseline model \n",
    "forest = RandomForestClassifier()\n",
    "forest.fit(x_train, y_train)\n",
    "    \n",
    "importances=forest.feature_importances_\n",
    "importances=importances.tolist()\n",
    "\n",
    "feat_labels= x_train.columns[:]\n",
    "feat_labels=feat_labels.tolist()\n",
    "\n",
    "df_imp_rf=pd.DataFrame({'Features':feat_labels,'Importance_RF':importances}).sort_values('Importance_RF', ascending=False)\n",
    "#df_imp_rf\n",
    "\n",
    "## Checking the \"m\" value of the features using Logistic regression model \n",
    "LR = LogisticRegression()\n",
    "\n",
    "LR.fit(x_train / np.std(x_train, 0), y_train)\n",
    "importanceLR=LR.coef_\n",
    "\n",
    "importanceLR=importanceLR.tolist()\n",
    "importanceLR=[item for sublist in importanceLR for item in sublist]\n",
    "importanceLR=[abs(ele) for ele in importanceLR]\n",
    "\n",
    "feat_labels=x_train.columns[:]\n",
    "feat_labels=feat_labels.tolist()\n",
    "\n",
    "df_imp_LR=pd.DataFrame({'Features':feat_labels,'Importance_LR':importanceLR}).sort_values('Importance_LR', ascending=False)\n",
    "\n",
    "feature_imp=pd.merge(df_imp_LR,df_imp_rf,how='inner',on='Features')\n",
    "#feature_imp\n",
    "\n",
    "fig, axes = plt.subplots(1, 2, figsize=(17, 10), sharey=True)\n",
    "\n",
    "sns.barplot(ax=axes[0], x=feature_imp['Importance_LR'], y=feature_imp['Features'],orient = 'h')\n",
    "axes[0].set_title(\"Logistic regression imp.\")\n",
    "\n",
    "sns.barplot(ax=axes[1], x=feature_imp['Importance_RF'], y=feature_imp['Features'],orient = 'h')\n",
    "axes[1].set_title(\"Random Forest imp.\")\n",
    "\n",
    "## No feature filtering was done even if a few feature had very low importance"
   ]
  },
  {
   "cell_type": "markdown",
   "metadata": {},
   "source": [
    "## Part 1 : ML classification algorithms (without Over Sampling)"
   ]
  },
  {
   "cell_type": "markdown",
   "metadata": {},
   "source": [
    "### Logistic regression"
   ]
  },
  {
   "cell_type": "code",
   "execution_count": 47,
   "metadata": {},
   "outputs": [
    {
     "name": "stdout",
     "output_type": "stream",
     "text": [
      "Accuracy (test dataset) of the logistic regression model: 0.9027272727272727\n",
      "Accuracy (train dataset) of the logistic regression model: 0.8942220200181984\n",
      "              precision    recall  f1-score   support\n",
      "\n",
      "     class 0       0.90      1.00      0.95       993\n",
      "     class 1       0.00      0.00      0.00       107\n",
      "\n",
      "    accuracy                           0.90      1100\n",
      "   macro avg       0.45      0.50      0.47      1100\n",
      "weighted avg       0.81      0.90      0.86      1100\n",
      "\n",
      "[[993   0]\n",
      " [107   0]]\n"
     ]
    },
    {
     "data": {
      "text/plain": [
       "<matplotlib.axes._subplots.AxesSubplot at 0x1bdb6b1a198>"
      ]
     },
     "execution_count": 47,
     "metadata": {},
     "output_type": "execute_result"
    },
    {
     "data": {
      "image/png": "[encoded data removed]",
      "text/plain": [
       "<Figure size 432x288 with 2 Axes>"
      ]
     },
     "metadata": {
      "needs_background": "light"
     },
     "output_type": "display_data"
    }
   ],
   "source": [
    "# LR train model\n",
    "logistic_clf = LogisticRegression(random_state=100).fit(x_train, y_train)\n",
    "y_pred=logistic_clf.predict(x_test)\n",
    "print(\"Accuracy (test dataset) of the logistic regression model:\",metrics.accuracy_score(y_valid, y_pred))\n",
    "\n",
    "y_pred_train=logistic_clf.predict(x_train)\n",
    "print(\"Accuracy (train dataset) of the logistic regression model:\",metrics.accuracy_score(y_train, y_pred_train))\n",
    "\n",
    "target_names = ['class 0', 'class 1']\n",
    "print(classification_report(y_valid, y_pred, target_names=target_names))\n",
    "\n",
    "#confusion matrix\n",
    "cf_matrix = confusion_matrix(y_valid, y_pred)\n",
    "print(cf_matrix)\n",
    "sns.heatmap(cf_matrix, annot=True)"
   ]
  },
  {
   "cell_type": "markdown",
   "metadata": {},
   "source": [
    "### KNN"
   ]
  },
  {
   "cell_type": "code",
   "execution_count": 48,
   "metadata": {},
   "outputs": [
    {
     "name": "stdout",
     "output_type": "stream",
     "text": [
      "Maximum accuracy:- 0.9036363636363637 at K = 6\n"
     ]
    },
    {
     "data": {
      "image/png": "[encoded data removed]",
      "text/plain": [
       "<Figure size 720x432 with 1 Axes>"
      ]
     },
     "metadata": {
      "needs_background": "light"
     },
     "output_type": "display_data"
    }
   ],
   "source": [
    "## Finding the optimal K value \n",
    "acc = []\n",
    "for i in range(1,20):\n",
    "    neigh = KNeighborsClassifier(n_neighbors = i).fit(x_train, y_train)\n",
    "    yhat = neigh.predict(x_test)\n",
    "    acc.append(metrics.accuracy_score(y_valid, yhat))\n",
    "    \n",
    "plt.figure(figsize=(10,6))\n",
    "plt.plot(range(1,20),acc,color = 'blue',linestyle='dashed', \n",
    "         marker='o',markerfacecolor='red', markersize=10)\n",
    "plt.title('accuracy vs. K Value')\n",
    "plt.xlabel('K')\n",
    "plt.ylabel('Accuracy')\n",
    "print(\"Maximum accuracy:-\",max(acc),\"at K =\",acc.index(max(acc))+1)"
   ]
  },
  {
   "cell_type": "code",
   "execution_count": 49,
   "metadata": {},
   "outputs": [
    {
     "name": "stdout",
     "output_type": "stream",
     "text": [
      "Accuracy (test dataset) of model at K=6 is 0.9036363636363637\n",
      "Accuracy (train dataset) of model at K=6 is 0.8949044585987261\n",
      "              precision    recall  f1-score   support\n",
      "\n",
      "     class 0       0.90      1.00      0.95       993\n",
      "     class 1       1.00      0.01      0.02       107\n",
      "\n",
      "    accuracy                           0.90      1100\n",
      "   macro avg       0.95      0.50      0.48      1100\n",
      "weighted avg       0.91      0.90      0.86      1100\n",
      "\n",
      "[[993   0]\n",
      " [106   1]]\n"
     ]
    },
    {
     "data": {
      "text/plain": [
       "<matplotlib.axes._subplots.AxesSubplot at 0x1bdb8244240>"
      ]
     },
     "execution_count": 49,
     "metadata": {},
     "output_type": "execute_result"
    },
    {
     "data": {
      "image/png": "[encoded data removed]",
      "text/plain": [
       "<Figure size 432x288 with 2 Axes>"
      ]
     },
     "metadata": {
      "needs_background": "light"
     },
     "output_type": "display_data"
    }
   ],
   "source": [
    "k = 6\n",
    "neigh = KNeighborsClassifier(n_neighbors = k).fit(x_train, y_train)\n",
    "Pred_y = neigh.predict(x_test)\n",
    "print(\"Accuracy (test dataset) of model at K=6 is\",metrics.accuracy_score(y_valid, Pred_y))\n",
    "\n",
    "Pred_y_train = neigh.predict(x_train)\n",
    "print(\"Accuracy (train dataset) of model at K=6 is\",metrics.accuracy_score(y_train, Pred_y_train))\n",
    "\n",
    "target_names = ['class 0', 'class 1']\n",
    "print(classification_report(y_valid, Pred_y, target_names=target_names))\n",
    "\n",
    "cf_matrix = confusion_matrix(y_valid, Pred_y)\n",
    "print(cf_matrix)\n",
    "sns.heatmap(cf_matrix, annot=True)"
   ]
  },
  {
   "cell_type": "markdown",
   "metadata": {},
   "source": [
    "#### GridsearchCV implementation for finding best hyperparameters"
   ]
  },
  {
   "cell_type": "code",
   "execution_count": 50,
   "metadata": {},
   "outputs": [
    {
     "name": "stdout",
     "output_type": "stream",
     "text": [
      "Fitting 5 folds for each of 30 candidates, totalling 150 fits\n",
      "DecisionTreeClassifier(max_depth=5, max_features='sqrt')\n",
      "RF best params: {'criterion': 'gini', 'max_depth': 4, 'max_features': 'auto', 'n_estimators': 10}\n"
     ]
    }
   ],
   "source": [
    "## Decision tree best hyperparameter set\n",
    "param_grid_dt = {'max_features': ['auto', 'sqrt', 'log2'],\n",
    "              'max_depth' : [5, 6, 7, 8, 9],\n",
    "              'criterion' :['gini', 'entropy']\n",
    "             }\n",
    "tree_clas = DecisionTreeClassifier()\n",
    "grid_search = GridSearchCV(estimator=tree_clas, param_grid=param_grid_dt, verbose=True)\n",
    "grid_search.fit(x_train, y_train)\n",
    "\n",
    "final_model_dt = grid_search.best_estimator_\n",
    "print(final_model_dt)\n",
    "\n",
    "## Random forest best hyperparameter set\n",
    "param_grid_rf = { \n",
    "    'n_estimators': [5, 10, 20, 30, 50, 100],\n",
    "    'max_features': ['auto', 'sqrt', 'log2'],\n",
    "    'max_depth' : [4,5,6,7,8],\n",
    "    'criterion' :['gini', 'entropy']\n",
    "}\n",
    "\n",
    "rfc=RandomForestClassifier()\n",
    "gridsearch_rfc = GridSearchCV(estimator=rfc, param_grid=param_grid_rf, n_jobs=4)\n",
    "gridsearch_rfc.fit(x_train, y_train)\n",
    "\n",
    "final_model_rfc=gridsearch_rfc.best_params_\n",
    "print(\"RF best params:\",final_model_rfc)"
   ]
  },
  {
   "cell_type": "markdown",
   "metadata": {},
   "source": [
    "### Decision tree classifier"
   ]
  },
  {
   "cell_type": "code",
   "execution_count": 51,
   "metadata": {},
   "outputs": [
    {
     "name": "stdout",
     "output_type": "stream",
     "text": [
      "Accuracy (test dataset) of the DT model: 0.9018181818181819\n",
      "Accuracy (train dataset) of the DT model: 0.8964968152866242\n"
     ]
    }
   ],
   "source": [
    "dt_clf = tree.DecisionTreeClassifier(criterion='entropy', max_depth=6, max_features='sqrt')\n",
    "# train decision tree\n",
    "dt_clf = dt_clf.fit(x_train, y_train)\n",
    "\n",
    "y_pred = dt_clf.predict(x_test)\n",
    "\n",
    "print(\"Accuracy (test dataset) of the DT model:\",metrics.accuracy_score(y_valid, y_pred))\n",
    "\n",
    "y_pred_train = dt_clf.predict(x_train)\n",
    "print(\"Accuracy (train dataset) of the DT model:\",metrics.accuracy_score(y_train, y_pred_train))"
   ]
  },
  {
   "cell_type": "markdown",
   "metadata": {},
   "source": [
    "### Random forest classifier"
   ]
  },
  {
   "cell_type": "code",
   "execution_count": 52,
   "metadata": {},
   "outputs": [
    {
     "name": "stdout",
     "output_type": "stream",
     "text": [
      "Accuracy (test dataset) of model RF is 0.9027272727272727\n",
      "Accuracy (train dataset) of model RF is 0.8942220200181984\n",
      "[[993   0]\n",
      " [107   0]]\n"
     ]
    },
    {
     "data": {
      "text/plain": [
       "<matplotlib.axes._subplots.AxesSubplot at 0x1bdb14b2cc0>"
      ]
     },
     "execution_count": 52,
     "metadata": {},
     "output_type": "execute_result"
    },
    {
     "data": {
      "image/png": "[encoded data removed]",
      "text/plain": [
       "<Figure size 432x288 with 2 Axes>"
      ]
     },
     "metadata": {
      "needs_background": "light"
     },
     "output_type": "display_data"
    }
   ],
   "source": [
    "rf_model = RandomForestClassifier(n_estimators=10, criterion='gini', max_depth=4, max_features='auto')\n",
    "rf_model.fit(x_train, y_train)\n",
    "predictions = rf_model.predict(x_test)\n",
    "\n",
    "print(\"Accuracy (test dataset) of model RF is\",metrics.accuracy_score(y_valid, predictions))\n",
    "\n",
    "predictions_train = rf_model.predict(x_train)\n",
    "print(\"Accuracy (train dataset) of model RF is\",metrics.accuracy_score(y_train, predictions_train))\n",
    "\n",
    "cf_matrix = confusion_matrix(y_valid, predictions)\n",
    "print(cf_matrix)\n",
    "sns.heatmap(cf_matrix, annot=True)"
   ]
  },
  {
   "cell_type": "markdown",
   "metadata": {},
   "source": [
    "### NOTE : Business won't be able to use/consume any of these above model output/recommendation since the RECALL value is very very low (=0 in most of the cases), which means although the accuracy of the models are good and doesn't overfit (looking into the training and testing accuracies), it is unable to catch 1's i.e. return orders i.e. True positives."
   ]
  },
  {
   "cell_type": "markdown",
   "metadata": {},
   "source": [
    "## Part 2 : ML classification algorithm (with Over Sampling)\n",
    "### Oversampling for class imbalance using SMOTE "
   ]
  },
  {
   "cell_type": "code",
   "execution_count": 53,
   "metadata": {},
   "outputs": [],
   "source": [
    "## Since Sampling should be done after VIF treated feature removal \n",
    "## Filtering the VIF removed list of columns from X \n",
    "X_vif=[]\n",
    "for i in x_train:\n",
    "    if i in X:\n",
    "        X_vif.append(i)\n",
    "        \n",
    "X_vif=X[X_vif]\n",
    "#X_vif"
   ]
  },
  {
   "cell_type": "code",
   "execution_count": 54,
   "metadata": {},
   "outputs": [],
   "source": [
    "#Using SMOTE to oversample the minority class\n",
    "oversample = SMOTE()\n",
    "over_X, over_y = oversample.fit_resample(X_vif, y)\n",
    "over_X_train, over_X_test, over_y_train, over_y_test = train_test_split(over_X, over_y, test_size=split_perc, stratify=over_y)"
   ]
  },
  {
   "cell_type": "markdown",
   "metadata": {},
   "source": [
    "#### GridSearchCV for best hyperparametes on oversampled dataset"
   ]
  },
  {
   "cell_type": "code",
   "execution_count": 55,
   "metadata": {},
   "outputs": [
    {
     "data": {
      "text/plain": [
       "{'criterion': 'gini',\n",
       " 'max_depth': 10,\n",
       " 'max_features': 'sqrt',\n",
       " 'n_estimators': 30}"
      ]
     },
     "execution_count": 55,
     "metadata": {},
     "output_type": "execute_result"
    }
   ],
   "source": [
    "## RF best hyperparameter set on the oversampled data\n",
    "param_grid_rf = { \n",
    "    'n_estimators': [5, 10, 20, 30, 50, 100, 150],\n",
    "    'max_features': ['auto', 'sqrt', 'log2'],\n",
    "    'max_depth' : [4,5,6,7,8,10],\n",
    "    'criterion' :['gini', 'entropy']\n",
    "}\n",
    "\n",
    "rfc=RandomForestClassifier()\n",
    "gridsearch_rfc = GridSearchCV(estimator=rfc, param_grid=param_grid_rf, n_jobs=4)\n",
    "gridsearch_rfc.fit(over_X_train, over_y_train)\n",
    "\n",
    "final_model_rfc=gridsearch_rfc.best_params_\n",
    "final_model_rfc"
   ]
  },
  {
   "cell_type": "markdown",
   "metadata": {},
   "source": [
    "### SMOTE Random forest model"
   ]
  },
  {
   "cell_type": "code",
   "execution_count": 62,
   "metadata": {},
   "outputs": [
    {
     "name": "stdout",
     "output_type": "stream",
     "text": [
      "Cross validation mean results\n",
      "Mean f1: 0.783\n",
      "Mean recall: 0.880\n",
      "Mean precision: 0.707\n",
      "-----------------------\n",
      "Model fit & predict results\n",
      "Accuracy (test dataset) of model RF is 0.7036363636363636\n",
      "Accuracy (train dataset) of model RF is 0.6917652411282984\n"
     ]
    },
    {
     "data": {
      "image/png": "[encoded data removed]",
      "text/plain": [
       "<Figure size 432x288 with 2 Axes>"
      ]
     },
     "metadata": {
      "needs_background": "light"
     },
     "output_type": "display_data"
    },
    {
     "name": "stdout",
     "output_type": "stream",
     "text": [
      "              precision    recall  f1-score   support\n",
      "\n",
      "     class 0       0.96      0.70      0.81       986\n",
      "     class 1       0.22      0.74      0.34       114\n",
      "\n",
      "    accuracy                           0.70      1100\n",
      "   macro avg       0.59      0.72      0.57      1100\n",
      "weighted avg       0.88      0.70      0.76      1100\n",
      "\n"
     ]
    }
   ],
   "source": [
    "#Building SMOTE SRF model\n",
    "SMOTE_SRF = RandomForestClassifier(n_estimators=50, criterion='gini', max_depth=10, max_features='sqrt')\n",
    "\n",
    "#Creating Stratified K-fold cross validation\n",
    "cv = RepeatedStratifiedKFold(n_splits=10, n_repeats=5, random_state=250)\n",
    "scoring = ('f1', 'recall', 'precision')\n",
    "\n",
    "#Evaluate SMOTE SRF model\n",
    "scores = cross_validate(SMOTE_SRF, over_X, over_y, scoring=scoring, cv=cv)\n",
    "\n",
    "print('Cross validation mean results')\n",
    "print('Mean f1: %.3f' % mean(scores['test_f1']))\n",
    "print('Mean recall: %.3f' % mean(scores['test_recall']))\n",
    "print('Mean precision: %.3f' % mean(scores['test_precision']))\n",
    "print('-----------------------')\n",
    "print('Model fit & predict results')\n",
    "\n",
    "X_train, X_test, y_train, y_test = train_test_split(X_vif, y, test_size=split_perc, stratify=y)\n",
    "\n",
    "#Training SMOTE RF\n",
    "SMOTE_SRF.fit(over_X_train, over_y_train)\n",
    "\n",
    "#SMOTE RF prediction \n",
    "y_pred = SMOTE_SRF.predict(X_test)\n",
    "\n",
    "print(\"Accuracy (test dataset) of model RF is\",metrics.accuracy_score(y_test, y_pred))\n",
    "predictions_train = SMOTE_SRF.predict(X_train)\n",
    "print(\"Accuracy (train dataset) of model RF is\",metrics.accuracy_score(y_train, predictions_train))\n",
    "\n",
    "#Create confusion matrix\n",
    "fig = plot_confusion_matrix(SMOTE_SRF, X_test, y_test, display_labels=[0,1], cmap='Greens')\n",
    "plt.title('SMOTE + Standard Random Forest Confusion Matrix')\n",
    "plt.show()\n",
    "\n",
    "target_names = ['class 0', 'class 1']\n",
    "print(classification_report(y_test, y_pred, target_names=target_names))"
   ]
  },
  {
   "cell_type": "markdown",
   "metadata": {},
   "source": [
    "### SMOTE Logistic regression model"
   ]
  },
  {
   "cell_type": "code",
   "execution_count": 59,
   "metadata": {},
   "outputs": [
    {
     "name": "stdout",
     "output_type": "stream",
     "text": [
      "Cross validation mean results\n",
      "Mean f1: 0.624\n",
      "Mean recall: 0.658\n",
      "Mean precision: 0.594\n",
      "-----------------------\n",
      "Model fit & predict results\n",
      "Accuracy (test dataset) of model RF is 0.5172727272727272\n",
      "Accuracy (train dataset) of model RF is 0.5618744313011829\n"
     ]
    },
    {
     "data": {
      "image/png": "[encoded data removed]",
      "text/plain": [
       "<Figure size 432x288 with 2 Axes>"
      ]
     },
     "metadata": {
      "needs_background": "light"
     },
     "output_type": "display_data"
    },
    {
     "name": "stdout",
     "output_type": "stream",
     "text": [
      "              precision    recall  f1-score   support\n",
      "\n",
      "     class 0       0.90      0.52      0.66       986\n",
      "     class 1       0.10      0.47      0.17       114\n",
      "\n",
      "    accuracy                           0.52      1100\n",
      "   macro avg       0.50      0.50      0.41      1100\n",
      "weighted avg       0.81      0.52      0.61      1100\n",
      "\n"
     ]
    }
   ],
   "source": [
    "#Building SMOTE LR model\n",
    "SMOTE_LR = LogisticRegression(random_state=500)\n",
    "\n",
    "#Creating Stratified K-fold cross validation\n",
    "cv = RepeatedStratifiedKFold(n_splits=10, n_repeats=5, random_state=250)\n",
    "scoring = ('f1', 'recall', 'precision')\n",
    "\n",
    "#Evaluate SMOTE SRF model\n",
    "scores = cross_validate(SMOTE_LR, over_X, over_y, scoring=scoring, cv=cv)\n",
    "\n",
    "print('Cross validation mean results')\n",
    "print('Mean f1: %.3f' % mean(scores['test_f1']))\n",
    "print('Mean recall: %.3f' % mean(scores['test_recall']))\n",
    "print('Mean precision: %.3f' % mean(scores['test_precision']))\n",
    "print('-----------------------')\n",
    "print('Model fit & predict results')\n",
    "\n",
    "X_train, X_test, y_train, y_test = train_test_split(X_vif, y, test_size=split_perc, stratify=y)\n",
    "\n",
    "#Training SMOTE RF\n",
    "SMOTE_LR.fit(over_X_train, over_y_train)\n",
    "\n",
    "#SMOTE RF prediction \n",
    "y_pred = SMOTE_LR.predict(X_test)\n",
    "\n",
    "print(\"Accuracy (test dataset) of model RF is\",metrics.accuracy_score(y_test, y_pred))\n",
    "predictions_train = SMOTE_LR.predict(X_train)\n",
    "print(\"Accuracy (train dataset) of model RF is\",metrics.accuracy_score(y_train, predictions_train))\n",
    "\n",
    "#Create confusion matrix\n",
    "fig = plot_confusion_matrix(SMOTE_LR, X_test, y_test, display_labels=[0,1], cmap='Greens')\n",
    "plt.title('SMOTE + LR Confusion Matrix')\n",
    "plt.show()\n",
    "\n",
    "target_names = ['class 0', 'class 1']\n",
    "print(classification_report(y_test, y_pred, target_names=target_names))"
   ]
  },
  {
   "cell_type": "markdown",
   "metadata": {},
   "source": [
    "### NOTE: Business will be able to use/consume these above models output/recommendation since the RECALL value is good (>50% of the cases), which means although the accuracy of the model is good and doesn't overfit (looking into the training and testing accuracies), it is able to catch 1's i.e. return orders i.e. True positives, thus reducing the risk of return. (also reduce false negatives)"
   ]
  },
  {
   "cell_type": "markdown",
   "metadata": {},
   "source": [
    "### SHAP values and Partial dependence plot for SMOTE + RF model evaluation"
   ]
  },
  {
   "cell_type": "code",
   "execution_count": 60,
   "metadata": {},
   "outputs": [
    {
     "data": {
      "image/png": "[encoded data removed]",
      "text/plain": [
       "<Figure size 576x655.2 with 1 Axes>"
      ]
     },
     "metadata": {
      "needs_background": "light"
     },
     "output_type": "display_data"
    }
   ],
   "source": [
    "import shap\n",
    "\n",
    "explainer=shap.TreeExplainer(SMOTE_SRF)\n",
    "shap_values=explainer.shap_values(X_test)\n",
    "\n",
    "shap.summary_plot(shap_values,X_test,plot_type=\"bar\")"
   ]
  },
  {
   "cell_type": "code",
   "execution_count": 61,
   "metadata": {
    "scrolled": false
   },
   "outputs": [
    {
     "name": "stdout",
     "output_type": "stream",
     "text": [
      "Computing partial dependence plots...\n"
     ]
    },
    {
     "data": {
      "image/png": "[encoded data removed]",
      "text/plain": [
       "<Figure size 576x432 with 19 Axes>"
      ]
     },
     "metadata": {
      "needs_background": "light"
     },
     "output_type": "display_data"
    }
   ],
   "source": [
    "# common_params = {\n",
    "#     \"subsample\": 2000,\n",
    "#     \"n_jobs\": 2,\n",
    "#     \"grid_resolution\": 20,\n",
    "#     \"random_state\": 200,\n",
    "# }\n",
    "\n",
    "print(\"Computing partial dependence plots...\")\n",
    "features_info = {\n",
    "    # features of interest\n",
    "    \"features\": X_vif.columns.tolist(),\n",
    "    # type of partial dependence plot\n",
    "    \"kind\": \"average\",\n",
    "}\n",
    "#tic = time()\n",
    "_, ax = plt.subplots(ncols=1, nrows=19, figsize=(8, 6), constrained_layout=True)\n",
    "display = PartialDependenceDisplay.from_estimator(\n",
    "    SMOTE_SRF,\n",
    "    X_vif,\n",
    "    **features_info,\n",
    "    ax=ax\n",
    "    #,**common_params,\n",
    ")\n",
    "plt.tight_layout()\n",
    "plt.subplots_adjust(left=None, bottom=1, right=None, top=14, wspace=None, hspace=None)"
   ]
  },
  {
   "cell_type": "code",
   "execution_count": null,
   "metadata": {},
   "outputs": [],
   "source": []
  }
 ],
 "metadata": {
  "kernelspec": {
   "display_name": "Python 3",
   "language": "python",
   "name": "python3"
  },
  "language_info": {
   "codemirror_mode": {
    "name": "ipython",
    "version": 3
   },
   "file_extension": ".py",
   "mimetype": "text/x-python",
   "name": "python",
   "nbconvert_exporter": "python",
   "pygments_lexer": "ipython3",
   "version": "3.7.0"
  }
 },
 "nbformat": 4,
 "nbformat_minor": 4
}
